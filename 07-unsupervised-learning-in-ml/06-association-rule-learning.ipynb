{
 "cells": [
  {
   "cell_type": "markdown",
   "id": "6e414cd2",
   "metadata": {},
   "source": [
    "No any practical implementation for this section"
   ]
  }
 ],
 "metadata": {
  "language_info": {
   "name": "python"
  }
 },
 "nbformat": 4,
 "nbformat_minor": 5
}
