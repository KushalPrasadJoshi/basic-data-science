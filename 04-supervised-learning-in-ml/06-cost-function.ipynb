{
 "cells": [
  {
   "cell_type": "markdown",
   "id": "e6e5cd3a",
   "metadata": {},
   "source": [
    "No any practical implementation for this section"
   ]
  }
 ],
 "metadata": {
  "language_info": {
   "name": "python"
  }
 },
 "nbformat": 4,
 "nbformat_minor": 5
}
