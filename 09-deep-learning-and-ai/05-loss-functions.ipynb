{
 "cells": [
  {
   "cell_type": "markdown",
   "id": "39289063",
   "metadata": {},
   "source": [
    "No practical implemenation for this section"
   ]
  }
 ],
 "metadata": {
  "language_info": {
   "name": "python"
  }
 },
 "nbformat": 4,
 "nbformat_minor": 5
}
