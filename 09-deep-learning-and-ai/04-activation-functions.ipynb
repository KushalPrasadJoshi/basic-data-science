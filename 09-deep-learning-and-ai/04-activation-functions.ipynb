{
 "cells": [
  {
   "cell_type": "markdown",
   "id": "7fda98c2",
   "metadata": {},
   "source": [
    "No practical implementation for this section"
   ]
  }
 ],
 "metadata": {
  "language_info": {
   "name": "python"
  }
 },
 "nbformat": 4,
 "nbformat_minor": 5
}
