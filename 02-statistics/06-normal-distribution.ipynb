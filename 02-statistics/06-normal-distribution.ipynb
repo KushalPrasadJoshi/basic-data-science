{
 "cells": [
  {
   "cell_type": "markdown",
   "id": "504be915",
   "metadata": {},
   "source": [
    "No any practical implementation for this section"
   ]
  }
 ],
 "metadata": {
  "language_info": {
   "name": "python"
  }
 },
 "nbformat": 4,
 "nbformat_minor": 5
}
