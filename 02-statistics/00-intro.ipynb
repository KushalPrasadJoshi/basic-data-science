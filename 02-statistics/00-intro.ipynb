{
 "cells": [
  {
   "cell_type": "markdown",
   "metadata": {},
   "source": [
    "No any practical implementations for this part.\n",
    "\n",
    "You can check out the actual note here: [Basic Data Science](/resources/basic-data-science.pdf)"
   ]
  }
 ],
 "metadata": {
  "language_info": {
   "name": "python"
  }
 },
 "nbformat": 4,
 "nbformat_minor": 2
}
