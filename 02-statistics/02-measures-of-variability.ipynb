{
 "cells": [
  {
   "cell_type": "markdown",
   "metadata": {},
   "source": [
    "# Measures of Variablity"
   ]
  },
  {
   "cell_type": "markdown",
   "metadata": {},
   "source": [
    "## 1. Range"
   ]
  },
  {
   "cell_type": "code",
   "execution_count": 1,
   "metadata": {},
   "outputs": [],
   "source": [
    "import numpy as np\n",
    "import pandas as pd\n",
    "import matplotlib.pyplot as plt\n",
    "import seaborn as sns"
   ]
  },
  {
   "cell_type": "code",
   "execution_count": 2,
   "metadata": {},
   "outputs": [],
   "source": [
    "dataset = pd.read_csv(\"../assets/csv-files/students.csv\")"
   ]
  },
  {
   "cell_type": "code",
   "execution_count": 3,
   "metadata": {},
   "outputs": [
    {
     "data": {
      "text/html": [
       "<div>\n",
       "<style scoped>\n",
       "    .dataframe tbody tr th:only-of-type {\n",
       "        vertical-align: middle;\n",
       "    }\n",
       "\n",
       "    .dataframe tbody tr th {\n",
       "        vertical-align: top;\n",
       "    }\n",
       "\n",
       "    .dataframe thead th {\n",
       "        text-align: right;\n",
       "    }\n",
       "</style>\n",
       "<table border=\"1\" class=\"dataframe\">\n",
       "  <thead>\n",
       "    <tr style=\"text-align: right;\">\n",
       "      <th></th>\n",
       "      <th>Roll No</th>\n",
       "      <th>Name</th>\n",
       "      <th>Gender</th>\n",
       "      <th>Age</th>\n",
       "      <th>Faculty</th>\n",
       "      <th>Level</th>\n",
       "      <th>Program</th>\n",
       "      <th>Year</th>\n",
       "      <th>Year of Study</th>\n",
       "      <th>GPA</th>\n",
       "      <th>Enrollment Status</th>\n",
       "      <th>Phone Number</th>\n",
       "      <th>Email</th>\n",
       "    </tr>\n",
       "  </thead>\n",
       "  <tbody>\n",
       "    <tr>\n",
       "      <th>0</th>\n",
       "      <td>100000</td>\n",
       "      <td>Student0</td>\n",
       "      <td>F</td>\n",
       "      <td>24.0</td>\n",
       "      <td>Law</td>\n",
       "      <td>Graduate</td>\n",
       "      <td>LLB</td>\n",
       "      <td>2024.0</td>\n",
       "      <td>4.0</td>\n",
       "      <td>3.10</td>\n",
       "      <td>Online</td>\n",
       "      <td>977-9889833788</td>\n",
       "      <td>student100000@university.edu</td>\n",
       "    </tr>\n",
       "    <tr>\n",
       "      <th>1</th>\n",
       "      <td>100001</td>\n",
       "      <td>Student1</td>\n",
       "      <td>M</td>\n",
       "      <td>25.0</td>\n",
       "      <td>Management</td>\n",
       "      <td>Graduate</td>\n",
       "      <td>NaN</td>\n",
       "      <td>2022.0</td>\n",
       "      <td>4.0</td>\n",
       "      <td>2.77</td>\n",
       "      <td>Physical</td>\n",
       "      <td>977-9823190889</td>\n",
       "      <td>student100001@university.edu</td>\n",
       "    </tr>\n",
       "    <tr>\n",
       "      <th>2</th>\n",
       "      <td>100002</td>\n",
       "      <td>Student2</td>\n",
       "      <td>F</td>\n",
       "      <td>29.0</td>\n",
       "      <td>Engineering</td>\n",
       "      <td>Phd</td>\n",
       "      <td>Electrical</td>\n",
       "      <td>2022.0</td>\n",
       "      <td>2.0</td>\n",
       "      <td>2.67</td>\n",
       "      <td>NaN</td>\n",
       "      <td>977-9826760704</td>\n",
       "      <td>student100002@university.edu</td>\n",
       "    </tr>\n",
       "  </tbody>\n",
       "</table>\n",
       "</div>"
      ],
      "text/plain": [
       "   Roll No      Name Gender   Age      Faculty     Level     Program    Year  \\\n",
       "0   100000  Student0      F  24.0          Law  Graduate         LLB  2024.0   \n",
       "1   100001  Student1      M  25.0   Management  Graduate         NaN  2022.0   \n",
       "2   100002  Student2      F  29.0  Engineering       Phd  Electrical  2022.0   \n",
       "\n",
       "   Year of Study   GPA Enrollment Status    Phone Number  \\\n",
       "0            4.0  3.10            Online  977-9889833788   \n",
       "1            4.0  2.77          Physical  977-9823190889   \n",
       "2            2.0  2.67               NaN  977-9826760704   \n",
       "\n",
       "                          Email  \n",
       "0  student100000@university.edu  \n",
       "1  student100001@university.edu  \n",
       "2  student100002@university.edu  "
      ]
     },
     "execution_count": 3,
     "metadata": {},
     "output_type": "execute_result"
    }
   ],
   "source": [
    "dataset.head(3) # Display first three rows"
   ]
  },
  {
   "cell_type": "code",
   "execution_count": 4,
   "metadata": {},
   "outputs": [],
   "source": [
    "min_r = dataset[\"Age\"].min() # Returns min value of column\n",
    "max_r = dataset[\"Age\"].max() # Returns max value of column"
   ]
  },
  {
   "cell_type": "code",
   "execution_count": 5,
   "metadata": {},
   "outputs": [
    {
     "data": {
      "text/plain": [
       "(np.float64(19.0), np.float64(59.0))"
      ]
     },
     "execution_count": 5,
     "metadata": {},
     "output_type": "execute_result"
    }
   ],
   "source": [
    "min_r, max_r # Prints min and max values"
   ]
  },
  {
   "cell_type": "code",
   "execution_count": 6,
   "metadata": {},
   "outputs": [
    {
     "data": {
      "text/plain": [
       "np.float64(40.0)"
      ]
     },
     "execution_count": 6,
     "metadata": {},
     "output_type": "execute_result"
    }
   ],
   "source": [
    "range = max_r - min_r # Gives range of column data\n",
    "range # Displays range of column data"
   ]
  },
  {
   "cell_type": "markdown",
   "metadata": {},
   "source": [
    "## 2. Mean Absolute Deviation"
   ]
  },
  {
   "cell_type": "markdown",
   "metadata": {},
   "source": [
    "Making choice based on data of sections"
   ]
  },
  {
   "cell_type": "code",
   "execution_count": 7,
   "metadata": {},
   "outputs": [],
   "source": [
    "import numpy as np\n",
    "import pandas as pd\n",
    "import matplotlib.pyplot as plt\n",
    "import seaborn as sns"
   ]
  },
  {
   "cell_type": "code",
   "execution_count": 8,
   "metadata": {},
   "outputs": [],
   "source": [
    "# Create two arrays with some data using numpy\n",
    "sec_a = np.array([75, 65, 73, 68, 72, 67])\n",
    "sec_b = np.array([90, 47, 43, 96, 93, 51])\n",
    "# Create an array for y-axis values\n",
    "no = np.array([1, 2, 3, 4, 5, 6])"
   ]
  },
  {
   "cell_type": "code",
   "execution_count": 9,
   "metadata": {},
   "outputs": [
    {
     "data": {
      "image/png": "[encoded data removed]",
      "text/plain": [
       "<Figure size 1000x300 with 1 Axes>"
      ]
     },
     "metadata": {},
     "output_type": "display_data"
    },
    {
     "data": {
      "text/plain": [
       "'From the diagram, the less scatterd data is less deviated and should be choosen.\\nBut sometimes drawing graphs is a tedious task and even not possible.\\nSo we need to have some mathematical calculations to meet our needs.'"
      ]
     },
     "execution_count": 9,
     "metadata": {},
     "output_type": "execute_result"
    }
   ],
   "source": [
    "plt.figure(figsize=(10, 3)) # Fix figure size\n",
    "plt.scatter(sec_a, no, label=\"sec A\") # Draw scatter graph of sec_a vs no\n",
    "plt.scatter(sec_b, no, label=\"sec B\") # Draw scatter graph of sec_b\n",
    "plt.plot([70, 70, 70, 70, 70, 70], no, c=\"red\", label=\"mean\") # Plot a line of mean from 0 to 6\n",
    "plt.legend() # Display legend according  to labels\n",
    "plt.show() # Show graph will all figures\n",
    "\n",
    "'''From the diagram, the less scatterd data is less deviated and should be choosen.\n",
    "But sometimes drawing graphs is a tedious task and even not possible.\n",
    "So we need to have some mathematical calculations to meet our needs.'''"
   ]
  },
  {
   "cell_type": "code",
   "execution_count": 10,
   "metadata": {},
   "outputs": [
    {
     "data": {
      "text/plain": [
       "(np.float64(70.0), np.float64(70.0))"
      ]
     },
     "execution_count": 10,
     "metadata": {},
     "output_type": "execute_result"
    }
   ],
   "source": [
    "'''The calculation can be done as follows:\n",
    "Find mean of both sections\n",
    "Mean absolute deviation is used when we have got the same mean while figuring out our best'''\n",
    "mean = np.mean(sec_a) # mean for sec_b is also same\n",
    "np.mean(sec_a), np.mean(sec_b) # Same is for  sec_a and sec_b"
   ]
  },
  {
   "cell_type": "code",
   "execution_count": 11,
   "metadata": {},
   "outputs": [
    {
     "name": "stdout",
     "output_type": "stream",
     "text": [
      "mad_a = 3.3333333333333335 and mad_b = 23.0\n"
     ]
    },
    {
     "data": {
      "text/plain": [
       "'We found tha mad_a < mad_b so, sec_a should be our choice\\nIf we got same mad for both data then standard deviation is used.'"
      ]
     },
     "execution_count": 11,
     "metadata": {},
     "output_type": "execute_result"
    }
   ],
   "source": [
    "# Now find mean absolute deviation for both\n",
    "mad_a = np.sum(np.abs(sec_a - mean)) / len(sec_a)\n",
    "mad_b = np.sum(np.abs(sec_b - mean)) / len(sec_b)\n",
    "print(f\"mad_a = {mad_a} and mad_b = {mad_b}\") # Display  mean standard deviation\n",
    "\n",
    "'''We found tha mad_a < mad_b so, sec_a should be our choice\n",
    "If we got same mad for both data then standard deviation is used.'''"
   ]
  },
  {
   "cell_type": "markdown",
   "metadata": {},
   "source": [
    "## 3. Standard Deviation"
   ]
  },
  {
   "cell_type": "markdown",
   "metadata": {},
   "source": [
    "Calculating Standard Deviation on prevoius lists"
   ]
  },
  {
   "cell_type": "code",
   "execution_count": 13,
   "metadata": {},
   "outputs": [
    {
     "data": {
      "text/plain": [
       "(np.float64(3.559026084010437), np.float64(23.18045153428495))"
      ]
     },
     "execution_count": 13,
     "metadata": {},
     "output_type": "execute_result"
    }
   ],
   "source": [
    "np.std(sec_a), np.std(sec_b) # Calculate and show standard deviation"
   ]
  },
  {
   "cell_type": "markdown",
   "metadata": {},
   "source": [
    "## 4. Variance"
   ]
  },
  {
   "cell_type": "markdown",
   "metadata": {},
   "source": [
    "Calculating variance on previous lists"
   ]
  },
  {
   "cell_type": "code",
   "execution_count": 14,
   "metadata": {},
   "outputs": [
    {
     "data": {
      "text/plain": [
       "(np.float64(12.666666666666666), np.float64(537.3333333333334))"
      ]
     },
     "execution_count": 14,
     "metadata": {},
     "output_type": "execute_result"
    }
   ],
   "source": [
    "np.var(sec_a), np.var(sec_b) # Calculate variance and display"
   ]
  },
  {
   "cell_type": "markdown",
   "metadata": {},
   "source": [
    "Calculating variance in real world"
   ]
  },
  {
   "cell_type": "code",
   "execution_count": 15,
   "metadata": {},
   "outputs": [],
   "source": [
    "# import necessary libraries\n",
    "import pandas as pd\n",
    "import numpy as np\n",
    "import matplotlib.pyplot as plt\n",
    "import seaborn as sns"
   ]
  },
  {
   "cell_type": "code",
   "execution_count": 17,
   "metadata": {},
   "outputs": [],
   "source": [
    "dataset = pd.read_csv(\"../assets/csv-files/students.csv\") # Read csv file"
   ]
  },
  {
   "cell_type": "code",
   "execution_count": 18,
   "metadata": {},
   "outputs": [
    {
     "data": {
      "text/html": [
       "<div>\n",
       "<style scoped>\n",
       "    .dataframe tbody tr th:only-of-type {\n",
       "        vertical-align: middle;\n",
       "    }\n",
       "\n",
       "    .dataframe tbody tr th {\n",
       "        vertical-align: top;\n",
       "    }\n",
       "\n",
       "    .dataframe thead th {\n",
       "        text-align: right;\n",
       "    }\n",
       "</style>\n",
       "<table border=\"1\" class=\"dataframe\">\n",
       "  <thead>\n",
       "    <tr style=\"text-align: right;\">\n",
       "      <th></th>\n",
       "      <th>Roll No</th>\n",
       "      <th>Name</th>\n",
       "      <th>Gender</th>\n",
       "      <th>Age</th>\n",
       "      <th>Faculty</th>\n",
       "      <th>Level</th>\n",
       "      <th>Program</th>\n",
       "      <th>Year</th>\n",
       "      <th>Year of Study</th>\n",
       "      <th>GPA</th>\n",
       "      <th>Enrollment Status</th>\n",
       "      <th>Phone Number</th>\n",
       "      <th>Email</th>\n",
       "    </tr>\n",
       "  </thead>\n",
       "  <tbody>\n",
       "    <tr>\n",
       "      <th>0</th>\n",
       "      <td>100000</td>\n",
       "      <td>Student0</td>\n",
       "      <td>F</td>\n",
       "      <td>24.0</td>\n",
       "      <td>Law</td>\n",
       "      <td>Graduate</td>\n",
       "      <td>LLB</td>\n",
       "      <td>2024.0</td>\n",
       "      <td>4.0</td>\n",
       "      <td>3.10</td>\n",
       "      <td>Online</td>\n",
       "      <td>977-9889833788</td>\n",
       "      <td>student100000@university.edu</td>\n",
       "    </tr>\n",
       "    <tr>\n",
       "      <th>1</th>\n",
       "      <td>100001</td>\n",
       "      <td>Student1</td>\n",
       "      <td>M</td>\n",
       "      <td>25.0</td>\n",
       "      <td>Management</td>\n",
       "      <td>Graduate</td>\n",
       "      <td>NaN</td>\n",
       "      <td>2022.0</td>\n",
       "      <td>4.0</td>\n",
       "      <td>2.77</td>\n",
       "      <td>Physical</td>\n",
       "      <td>977-9823190889</td>\n",
       "      <td>student100001@university.edu</td>\n",
       "    </tr>\n",
       "    <tr>\n",
       "      <th>2</th>\n",
       "      <td>100002</td>\n",
       "      <td>Student2</td>\n",
       "      <td>F</td>\n",
       "      <td>29.0</td>\n",
       "      <td>Engineering</td>\n",
       "      <td>Phd</td>\n",
       "      <td>Electrical</td>\n",
       "      <td>2022.0</td>\n",
       "      <td>2.0</td>\n",
       "      <td>2.67</td>\n",
       "      <td>NaN</td>\n",
       "      <td>977-9826760704</td>\n",
       "      <td>student100002@university.edu</td>\n",
       "    </tr>\n",
       "  </tbody>\n",
       "</table>\n",
       "</div>"
      ],
      "text/plain": [
       "   Roll No      Name Gender   Age      Faculty     Level     Program    Year  \\\n",
       "0   100000  Student0      F  24.0          Law  Graduate         LLB  2024.0   \n",
       "1   100001  Student1      M  25.0   Management  Graduate         NaN  2022.0   \n",
       "2   100002  Student2      F  29.0  Engineering       Phd  Electrical  2022.0   \n",
       "\n",
       "   Year of Study   GPA Enrollment Status    Phone Number  \\\n",
       "0            4.0  3.10            Online  977-9889833788   \n",
       "1            4.0  2.77          Physical  977-9823190889   \n",
       "2            2.0  2.67               NaN  977-9826760704   \n",
       "\n",
       "                          Email  \n",
       "0  student100000@university.edu  \n",
       "1  student100001@university.edu  \n",
       "2  student100002@university.edu  "
      ]
     },
     "execution_count": 18,
     "metadata": {},
     "output_type": "execute_result"
    }
   ],
   "source": [
    "dataset.head(3)"
   ]
  },
  {
   "cell_type": "code",
   "execution_count": 19,
   "metadata": {},
   "outputs": [
    {
     "data": {
      "text/plain": [
       "np.float64(122.62376915831835)"
      ]
     },
     "execution_count": 19,
     "metadata": {},
     "output_type": "execute_result"
    }
   ],
   "source": [
    "dataset[\"Age\"].var() # Calculate variance"
   ]
  },
  {
   "cell_type": "code",
   "execution_count": 20,
   "metadata": {},
   "outputs": [
    {
     "data": {
      "text/plain": [
       "np.float64(11.073561719623834)"
      ]
     },
     "execution_count": 20,
     "metadata": {},
     "output_type": "execute_result"
    }
   ],
   "source": [
    "dataset[\"Age\"].std() # Calculate standard deviation"
   ]
  },
  {
   "cell_type": "code",
   "execution_count": 21,
   "metadata": {},
   "outputs": [
    {
     "data": {
      "image/png": "[encoded data removed]",
      "text/plain": [
       "<Figure size 640x480 with 1 Axes>"
      ]
     },
     "metadata": {},
     "output_type": "display_data"
    }
   ],
   "source": [
    "# Plot column vs data graph for visualization\n",
    "sns.histplot(x=\"Age\", data=dataset, bins = np.arange(0, 100, 10))\n",
    "plt.show()"
   ]
  },
  {
   "cell_type": "code",
   "execution_count": 22,
   "metadata": {},
   "outputs": [
    {
     "data": {
      "text/html": [
       "<div>\n",
       "<style scoped>\n",
       "    .dataframe tbody tr th:only-of-type {\n",
       "        vertical-align: middle;\n",
       "    }\n",
       "\n",
       "    .dataframe tbody tr th {\n",
       "        vertical-align: top;\n",
       "    }\n",
       "\n",
       "    .dataframe thead th {\n",
       "        text-align: right;\n",
       "    }\n",
       "</style>\n",
       "<table border=\"1\" class=\"dataframe\">\n",
       "  <thead>\n",
       "    <tr style=\"text-align: right;\">\n",
       "      <th></th>\n",
       "      <th>Roll No</th>\n",
       "      <th>Age</th>\n",
       "      <th>Year</th>\n",
       "      <th>Year of Study</th>\n",
       "      <th>GPA</th>\n",
       "    </tr>\n",
       "  </thead>\n",
       "  <tbody>\n",
       "    <tr>\n",
       "      <th>count</th>\n",
       "      <td>500.000000</td>\n",
       "      <td>459.000000</td>\n",
       "      <td>449.000000</td>\n",
       "      <td>395.000000</td>\n",
       "      <td>446.000000</td>\n",
       "    </tr>\n",
       "    <tr>\n",
       "      <th>mean</th>\n",
       "      <td>100249.500000</td>\n",
       "      <td>33.248366</td>\n",
       "      <td>2022.051225</td>\n",
       "      <td>2.924051</td>\n",
       "      <td>2.981614</td>\n",
       "    </tr>\n",
       "    <tr>\n",
       "      <th>std</th>\n",
       "      <td>144.481833</td>\n",
       "      <td>11.073562</td>\n",
       "      <td>1.402980</td>\n",
       "      <td>0.827389</td>\n",
       "      <td>0.548920</td>\n",
       "    </tr>\n",
       "    <tr>\n",
       "      <th>min</th>\n",
       "      <td>100000.000000</td>\n",
       "      <td>19.000000</td>\n",
       "      <td>2020.000000</td>\n",
       "      <td>2.000000</td>\n",
       "      <td>2.000000</td>\n",
       "    </tr>\n",
       "    <tr>\n",
       "      <th>25%</th>\n",
       "      <td>100124.750000</td>\n",
       "      <td>25.000000</td>\n",
       "      <td>2021.000000</td>\n",
       "      <td>2.000000</td>\n",
       "      <td>2.530000</td>\n",
       "    </tr>\n",
       "    <tr>\n",
       "      <th>50%</th>\n",
       "      <td>100249.500000</td>\n",
       "      <td>30.000000</td>\n",
       "      <td>2022.000000</td>\n",
       "      <td>3.000000</td>\n",
       "      <td>2.970000</td>\n",
       "    </tr>\n",
       "    <tr>\n",
       "      <th>75%</th>\n",
       "      <td>100374.250000</td>\n",
       "      <td>40.000000</td>\n",
       "      <td>2023.000000</td>\n",
       "      <td>4.000000</td>\n",
       "      <td>3.440000</td>\n",
       "    </tr>\n",
       "    <tr>\n",
       "      <th>max</th>\n",
       "      <td>100499.000000</td>\n",
       "      <td>59.000000</td>\n",
       "      <td>2024.000000</td>\n",
       "      <td>4.000000</td>\n",
       "      <td>3.980000</td>\n",
       "    </tr>\n",
       "  </tbody>\n",
       "</table>\n",
       "</div>"
      ],
      "text/plain": [
       "             Roll No         Age         Year  Year of Study         GPA\n",
       "count     500.000000  459.000000   449.000000     395.000000  446.000000\n",
       "mean   100249.500000   33.248366  2022.051225       2.924051    2.981614\n",
       "std       144.481833   11.073562     1.402980       0.827389    0.548920\n",
       "min    100000.000000   19.000000  2020.000000       2.000000    2.000000\n",
       "25%    100124.750000   25.000000  2021.000000       2.000000    2.530000\n",
       "50%    100249.500000   30.000000  2022.000000       3.000000    2.970000\n",
       "75%    100374.250000   40.000000  2023.000000       4.000000    3.440000\n",
       "max    100499.000000   59.000000  2024.000000       4.000000    3.980000"
      ]
     },
     "execution_count": 22,
     "metadata": {},
     "output_type": "execute_result"
    }
   ],
   "source": [
    "'''If we don't want them to calculate all we have another method which will show {count, mean, std, min, 25%, 50%, 75%, max of all numerical columns}'''\n",
    "dataset.describe()"
   ]
  }
 ],
 "metadata": {
  "kernelspec": {
   "display_name": "Python 3",
   "language": "python",
   "name": "python3"
  },
  "language_info": {
   "codemirror_mode": {
    "name": "ipython",
    "version": 3
   },
   "file_extension": ".py",
   "mimetype": "text/x-python",
   "name": "python",
   "nbconvert_exporter": "python",
   "pygments_lexer": "ipython3",
   "version": "3.13.2"
  }
 },
 "nbformat": 4,
 "nbformat_minor": 2
}
