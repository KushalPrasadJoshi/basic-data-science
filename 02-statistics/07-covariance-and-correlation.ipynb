{
 "cells": [
  {
   "cell_type": "code",
   "execution_count": 1,
   "metadata": {},
   "outputs": [],
   "source": [
    "import pandas as pd\n",
    "import matplotlib.pyplot as plt\n",
    "import seaborn as sns"
   ]
  },
  {
   "cell_type": "code",
   "execution_count": 2,
   "metadata": {},
   "outputs": [],
   "source": [
    "dataset = pd.read_csv(\"../assets/csv-files/students.csv\")"
   ]
  },
  {
   "cell_type": "code",
   "execution_count": 3,
   "metadata": {},
   "outputs": [
    {
     "data": {
      "text/html": [
       "<div>\n",
       "<style scoped>\n",
       "    .dataframe tbody tr th:only-of-type {\n",
       "        vertical-align: middle;\n",
       "    }\n",
       "\n",
       "    .dataframe tbody tr th {\n",
       "        vertical-align: top;\n",
       "    }\n",
       "\n",
       "    .dataframe thead th {\n",
       "        text-align: right;\n",
       "    }\n",
       "</style>\n",
       "<table border=\"1\" class=\"dataframe\">\n",
       "  <thead>\n",
       "    <tr style=\"text-align: right;\">\n",
       "      <th></th>\n",
       "      <th>Roll No</th>\n",
       "      <th>Name</th>\n",
       "      <th>Gender</th>\n",
       "      <th>Age</th>\n",
       "      <th>Faculty</th>\n",
       "      <th>Level</th>\n",
       "      <th>Program</th>\n",
       "      <th>Year</th>\n",
       "      <th>Year of Study</th>\n",
       "      <th>GPA</th>\n",
       "      <th>Enrollment Status</th>\n",
       "      <th>Phone Number</th>\n",
       "      <th>Email</th>\n",
       "    </tr>\n",
       "  </thead>\n",
       "  <tbody>\n",
       "    <tr>\n",
       "      <th>0</th>\n",
       "      <td>100000</td>\n",
       "      <td>Student0</td>\n",
       "      <td>F</td>\n",
       "      <td>24.0</td>\n",
       "      <td>Law</td>\n",
       "      <td>Graduate</td>\n",
       "      <td>LLB</td>\n",
       "      <td>2024.0</td>\n",
       "      <td>4.0</td>\n",
       "      <td>3.10</td>\n",
       "      <td>Online</td>\n",
       "      <td>977-9889833788</td>\n",
       "      <td>student100000@university.edu</td>\n",
       "    </tr>\n",
       "    <tr>\n",
       "      <th>1</th>\n",
       "      <td>100001</td>\n",
       "      <td>Student1</td>\n",
       "      <td>M</td>\n",
       "      <td>25.0</td>\n",
       "      <td>Management</td>\n",
       "      <td>Graduate</td>\n",
       "      <td>NaN</td>\n",
       "      <td>2022.0</td>\n",
       "      <td>4.0</td>\n",
       "      <td>2.77</td>\n",
       "      <td>Physical</td>\n",
       "      <td>977-9823190889</td>\n",
       "      <td>student100001@university.edu</td>\n",
       "    </tr>\n",
       "    <tr>\n",
       "      <th>2</th>\n",
       "      <td>100002</td>\n",
       "      <td>Student2</td>\n",
       "      <td>F</td>\n",
       "      <td>29.0</td>\n",
       "      <td>Engineering</td>\n",
       "      <td>Phd</td>\n",
       "      <td>Electrical</td>\n",
       "      <td>2022.0</td>\n",
       "      <td>2.0</td>\n",
       "      <td>2.67</td>\n",
       "      <td>NaN</td>\n",
       "      <td>977-9826760704</td>\n",
       "      <td>student100002@university.edu</td>\n",
       "    </tr>\n",
       "  </tbody>\n",
       "</table>\n",
       "</div>"
      ],
      "text/plain": [
       "   Roll No      Name Gender   Age      Faculty     Level     Program    Year  \\\n",
       "0   100000  Student0      F  24.0          Law  Graduate         LLB  2024.0   \n",
       "1   100001  Student1      M  25.0   Management  Graduate         NaN  2022.0   \n",
       "2   100002  Student2      F  29.0  Engineering       Phd  Electrical  2022.0   \n",
       "\n",
       "   Year of Study   GPA Enrollment Status    Phone Number  \\\n",
       "0            4.0  3.10            Online  977-9889833788   \n",
       "1            4.0  2.77          Physical  977-9823190889   \n",
       "2            2.0  2.67               NaN  977-9826760704   \n",
       "\n",
       "                          Email  \n",
       "0  student100000@university.edu  \n",
       "1  student100001@university.edu  \n",
       "2  student100002@university.edu  "
      ]
     },
     "execution_count": 3,
     "metadata": {},
     "output_type": "execute_result"
    }
   ],
   "source": [
    "dataset.head(3) # Display first three head rows"
   ]
  },
  {
   "cell_type": "code",
   "execution_count": 4,
   "metadata": {},
   "outputs": [
    {
     "data": {
      "text/plain": [
       "Roll No                0\n",
       "Name                   0\n",
       "Gender                40\n",
       "Age                   41\n",
       "Faculty               54\n",
       "Level                105\n",
       "Program               99\n",
       "Year                  51\n",
       "Year of Study        105\n",
       "GPA                   54\n",
       "Enrollment Status     59\n",
       "Phone Number          56\n",
       "Email                 55\n",
       "dtype: int64"
      ]
     },
     "execution_count": 4,
     "metadata": {},
     "output_type": "execute_result"
    }
   ],
   "source": [
    "dataset.isnull().sum() # Displays sum of null values in each columns"
   ]
  },
  {
   "cell_type": "code",
   "execution_count": 5,
   "metadata": {},
   "outputs": [
    {
     "name": "stdout",
     "output_type": "stream",
     "text": [
      "<class 'pandas.core.frame.DataFrame'>\n",
      "RangeIndex: 500 entries, 0 to 499\n",
      "Data columns (total 13 columns):\n",
      " #   Column             Non-Null Count  Dtype  \n",
      "---  ------             --------------  -----  \n",
      " 0   Roll No            500 non-null    int64  \n",
      " 1   Name               500 non-null    object \n",
      " 2   Gender             460 non-null    object \n",
      " 3   Age                459 non-null    float64\n",
      " 4   Faculty            446 non-null    object \n",
      " 5   Level              395 non-null    object \n",
      " 6   Program            401 non-null    object \n",
      " 7   Year               449 non-null    float64\n",
      " 8   Year of Study      395 non-null    float64\n",
      " 9   GPA                446 non-null    float64\n",
      " 10  Enrollment Status  441 non-null    object \n",
      " 11  Phone Number       444 non-null    object \n",
      " 12  Email              445 non-null    object \n",
      "dtypes: float64(4), int64(1), object(8)\n",
      "memory usage: 50.9+ KB\n"
     ]
    }
   ],
   "source": [
    "dataset.info() # You can check datatypes of columns using this"
   ]
  },
  {
   "cell_type": "code",
   "execution_count": 6,
   "metadata": {},
   "outputs": [
    {
     "data": {
      "text/html": [
       "<div>\n",
       "<style scoped>\n",
       "    .dataframe tbody tr th:only-of-type {\n",
       "        vertical-align: middle;\n",
       "    }\n",
       "\n",
       "    .dataframe tbody tr th {\n",
       "        vertical-align: top;\n",
       "    }\n",
       "\n",
       "    .dataframe thead th {\n",
       "        text-align: right;\n",
       "    }\n",
       "</style>\n",
       "<table border=\"1\" class=\"dataframe\">\n",
       "  <thead>\n",
       "    <tr style=\"text-align: right;\">\n",
       "      <th></th>\n",
       "      <th>Roll No</th>\n",
       "      <th>Age</th>\n",
       "      <th>Year</th>\n",
       "      <th>Year of Study</th>\n",
       "      <th>GPA</th>\n",
       "    </tr>\n",
       "  </thead>\n",
       "  <tbody>\n",
       "    <tr>\n",
       "      <th>Roll No</th>\n",
       "      <td>1.000000</td>\n",
       "      <td>0.074490</td>\n",
       "      <td>0.048223</td>\n",
       "      <td>-0.078884</td>\n",
       "      <td>0.109671</td>\n",
       "    </tr>\n",
       "    <tr>\n",
       "      <th>Age</th>\n",
       "      <td>0.074490</td>\n",
       "      <td>1.000000</td>\n",
       "      <td>0.024610</td>\n",
       "      <td>-0.758722</td>\n",
       "      <td>0.048693</td>\n",
       "    </tr>\n",
       "    <tr>\n",
       "      <th>Year</th>\n",
       "      <td>0.048223</td>\n",
       "      <td>0.024610</td>\n",
       "      <td>1.000000</td>\n",
       "      <td>-0.027721</td>\n",
       "      <td>-0.067588</td>\n",
       "    </tr>\n",
       "    <tr>\n",
       "      <th>Year of Study</th>\n",
       "      <td>-0.078884</td>\n",
       "      <td>-0.758722</td>\n",
       "      <td>-0.027721</td>\n",
       "      <td>1.000000</td>\n",
       "      <td>-0.065644</td>\n",
       "    </tr>\n",
       "    <tr>\n",
       "      <th>GPA</th>\n",
       "      <td>0.109671</td>\n",
       "      <td>0.048693</td>\n",
       "      <td>-0.067588</td>\n",
       "      <td>-0.065644</td>\n",
       "      <td>1.000000</td>\n",
       "    </tr>\n",
       "  </tbody>\n",
       "</table>\n",
       "</div>"
      ],
      "text/plain": [
       "                Roll No       Age      Year  Year of Study       GPA\n",
       "Roll No        1.000000  0.074490  0.048223      -0.078884  0.109671\n",
       "Age            0.074490  1.000000  0.024610      -0.758722  0.048693\n",
       "Year           0.048223  0.024610  1.000000      -0.027721 -0.067588\n",
       "Year of Study -0.078884 -0.758722 -0.027721       1.000000 -0.065644\n",
       "GPA            0.109671  0.048693 -0.067588      -0.065644  1.000000"
      ]
     },
     "execution_count": 6,
     "metadata": {},
     "output_type": "execute_result"
    }
   ],
   "source": [
    "data_corr = dataset.select_dtypes([\"float64\", \"int64\"]).corr() # Displays correlation on selected datatypes\n",
    "data_corr # Displays what data_corr variable stores"
   ]
  },
  {
   "cell_type": "code",
   "execution_count": 7,
   "metadata": {},
   "outputs": [
    {
     "data": {
      "text/html": [
       "<div>\n",
       "<style scoped>\n",
       "    .dataframe tbody tr th:only-of-type {\n",
       "        vertical-align: middle;\n",
       "    }\n",
       "\n",
       "    .dataframe tbody tr th {\n",
       "        vertical-align: top;\n",
       "    }\n",
       "\n",
       "    .dataframe thead th {\n",
       "        text-align: right;\n",
       "    }\n",
       "</style>\n",
       "<table border=\"1\" class=\"dataframe\">\n",
       "  <thead>\n",
       "    <tr style=\"text-align: right;\">\n",
       "      <th></th>\n",
       "      <th>Roll No</th>\n",
       "      <th>Age</th>\n",
       "      <th>Year</th>\n",
       "      <th>Year of Study</th>\n",
       "      <th>GPA</th>\n",
       "    </tr>\n",
       "  </thead>\n",
       "  <tbody>\n",
       "    <tr>\n",
       "      <th>Roll No</th>\n",
       "      <td>20875.000000</td>\n",
       "      <td>119.725804</td>\n",
       "      <td>9.761444</td>\n",
       "      <td>-9.308809</td>\n",
       "      <td>8.672573</td>\n",
       "    </tr>\n",
       "    <tr>\n",
       "      <th>Age</th>\n",
       "      <td>119.725804</td>\n",
       "      <td>122.623769</td>\n",
       "      <td>0.382417</td>\n",
       "      <td>-6.408156</td>\n",
       "      <td>0.295397</td>\n",
       "    </tr>\n",
       "    <tr>\n",
       "      <th>Year</th>\n",
       "      <td>9.761444</td>\n",
       "      <td>0.382417</td>\n",
       "      <td>1.968352</td>\n",
       "      <td>-0.031379</td>\n",
       "      <td>-0.052130</td>\n",
       "    </tr>\n",
       "    <tr>\n",
       "      <th>Year of Study</th>\n",
       "      <td>-9.308809</td>\n",
       "      <td>-6.408156</td>\n",
       "      <td>-0.031379</td>\n",
       "      <td>0.684572</td>\n",
       "      <td>-0.029815</td>\n",
       "    </tr>\n",
       "    <tr>\n",
       "      <th>GPA</th>\n",
       "      <td>8.672573</td>\n",
       "      <td>0.295397</td>\n",
       "      <td>-0.052130</td>\n",
       "      <td>-0.029815</td>\n",
       "      <td>0.301313</td>\n",
       "    </tr>\n",
       "  </tbody>\n",
       "</table>\n",
       "</div>"
      ],
      "text/plain": [
       "                    Roll No         Age      Year  Year of Study       GPA\n",
       "Roll No        20875.000000  119.725804  9.761444      -9.308809  8.672573\n",
       "Age              119.725804  122.623769  0.382417      -6.408156  0.295397\n",
       "Year               9.761444    0.382417  1.968352      -0.031379 -0.052130\n",
       "Year of Study     -9.308809   -6.408156 -0.031379       0.684572 -0.029815\n",
       "GPA                8.672573    0.295397 -0.052130      -0.029815  0.301313"
      ]
     },
     "execution_count": 7,
     "metadata": {},
     "output_type": "execute_result"
    }
   ],
   "source": [
    "data_cov = dataset.select_dtypes([\"float64\", \"int64\"]).cov()\n",
    "data_cov # For covariance"
   ]
  },
  {
   "cell_type": "markdown",
   "metadata": {},
   "source": [
    "For visulaization"
   ]
  },
  {
   "cell_type": "code",
   "execution_count": 8,
   "metadata": {},
   "outputs": [
    {
     "data": {
      "image/png": "[encoded data removed]",
      "text/plain": [
       "<Figure size 400x300 with 2 Axes>"
      ]
     },
     "metadata": {},
     "output_type": "display_data"
    }
   ],
   "source": [
    "# For correlation\n",
    "plt.figure(figsize=(4,3)) # adjust size\n",
    "sns.heatmap(data_corr, annot=True)\n",
    "plt.show()"
   ]
  },
  {
   "cell_type": "code",
   "execution_count": 9,
   "metadata": {},
   "outputs": [
    {
     "data": {
      "image/png": "[encoded data removed]",
      "text/plain": [
       "<Figure size 400x300 with 2 Axes>"
      ]
     },
     "metadata": {},
     "output_type": "display_data"
    },
    {
     "data": {
      "text/plain": [
       "'We find correlation graph is more clear than covariance.\\nSo, correlation is more used than covariance in machine learning.'"
      ]
     },
     "execution_count": 9,
     "metadata": {},
     "output_type": "execute_result"
    }
   ],
   "source": [
    "# For covariance\n",
    "plt.figure(figsize=(4, 3))\n",
    "sns.heatmap(data_cov, annot=True)\n",
    "plt.show()\n",
    "\n",
    "'''We find correlation graph is more clear than covariance.\n",
    "So, correlation is more used than covariance in machine learning.'''"
   ]
  }
 ],
 "metadata": {
  "kernelspec": {
   "display_name": "Python 3",
   "language": "python",
   "name": "python3"
  },
  "language_info": {
   "codemirror_mode": {
    "name": "ipython",
    "version": 3
   },
   "file_extension": ".py",
   "mimetype": "text/x-python",
   "name": "python",
   "nbconvert_exporter": "python",
   "pygments_lexer": "ipython3",
   "version": "3.13.3"
  }
 },
 "nbformat": 4,
 "nbformat_minor": 2
}
