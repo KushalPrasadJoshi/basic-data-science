{
 "cells": [
  {
   "cell_type": "markdown",
   "metadata": {},
   "source": [
    "# Hypothesis Testing"
   ]
  },
  {
   "cell_type": "markdown",
   "metadata": {},
   "source": [
    "## 1. Z Test"
   ]
  },
  {
   "cell_type": "markdown",
   "metadata": {},
   "source": [
    "### Example 1:\n",
    "A teacher claims that the mean score of students in his class is greater than 82 \n",
    "with a standard deviation of 20. If a sample of 81 students was selected with a \n",
    "mean score of 90."
   ]
  },
  {
   "cell_type": "code",
   "execution_count": 1,
   "metadata": {},
   "outputs": [],
   "source": [
    "import scipy.stats as st # Library with constants in which stats has statistical analysis\n",
    "import numpy as np"
   ]
  },
  {
   "cell_type": "code",
   "execution_count": 2,
   "metadata": {},
   "outputs": [],
   "source": [
    "sample_mean = 90\n",
    "population_mean = 82\n",
    "population_std = 20\n",
    "n = 81\n",
    "alpha = 0.05 # Assume"
   ]
  },
  {
   "cell_type": "code",
   "execution_count": 3,
   "metadata": {},
   "outputs": [
    {
     "data": {
      "text/plain": [
       "np.float64(3.5999999999999996)"
      ]
     },
     "execution_count": 3,
     "metadata": {},
     "output_type": "execute_result"
    }
   ],
   "source": [
    "z_calc = (sample_mean - population_mean) / (population_std / np.sqrt(n))\n",
    "z_calc"
   ]
  },
  {
   "cell_type": "code",
   "execution_count": 4,
   "metadata": {},
   "outputs": [
    {
     "data": {
      "text/plain": [
       "np.float64(1.6448536269514722)"
      ]
     },
     "execution_count": 4,
     "metadata": {},
     "output_type": "execute_result"
    }
   ],
   "source": [
    "z_table = st.norm.ppf(1-alpha) # norm contains functions related to normal distribution\n",
    "z_table"
   ]
  },
  {
   "cell_type": "code",
   "execution_count": 5,
   "metadata": {},
   "outputs": [
    {
     "name": "stdout",
     "output_type": "stream",
     "text": [
      "Teacher is right\n"
     ]
    }
   ],
   "source": [
    "if z_table < z_calc:\n",
    "    print(\"Teacher is right\")\n",
    "else:\n",
    "    printf(\"Teacher is wrong\")"
   ]
  },
  {
   "cell_type": "markdown",
   "metadata": {},
   "source": [
    "### Example 2:\n",
    "##### Scenario:\n",
    "Imagine you work for an e-commerce company, and your team is responsible for \n",
    "analyzing customer purchase data. You want to determine whether a new website \n",
    "design has lead to a significant increase in the average purchase amount \n",
    "compared to the old design.\n",
    "##### Data:\n",
    "You have collected data from a random sample of 30 customers who made purchase on the \n",
    "old website design and 30 customers who made purchase on the new website design. \n",
    "You have the sample means, sample standard deviations, and sample sizes for both groups.\n",
    "- Old design data = [45.2, 42.8, 38.9, 43.5, 41.0, 44.6, 40.5, 42.7, 39.8, 41.4, 44.3, \n",
    "                          39.7, 42.1, 40.6, 43.0, 42.2, 41.5, 39.6, 44.0, 43.1, 38.7, 43.9, \n",
    "                          42.0, 41.9, 42.8, 43.7, 41.3, 40.9, 42.5, 41.6]\n",
    "- New design data = [48.5, 49.1, 50.2, 47.8, 48.7, 49.9, 48.0, 50.5, 49.8, 49.6, 48.2, 48.9, \n",
    "                         49.7, 50.3, 49.4, 50.1, 48.6, 48.3, 49.0, 50.0, 48.4, 49.3, 49.5, 48.8, \n",
    "                         50.6, 50.4, 48.1, 49.2, 50.7, 50.8]\n",
    "- Population standard deviation = 2.5\n",
    "\n"
   ]
  },
  {
   "cell_type": "code",
   "execution_count": 6,
   "metadata": {},
   "outputs": [],
   "source": [
    "import scipy.stats as st\n",
    "import numpy as np"
   ]
  },
  {
   "cell_type": "code",
   "execution_count": 7,
   "metadata": {},
   "outputs": [],
   "source": [
    "# Convert the given list to np.array for fast calculation\n",
    "Old_design_data = np.array([45.2, 42.8, 38.9, 43.5, 41.0, 44.6, 40.5, 42.7, 39.8, 41.4, 44.3, \n",
    "                          39.7, 42.1, 40.6, 43.0, 42.2, 41.5, 39.6, 44.0, 43.1, 38.7, 43.9, \n",
    "                          42.0, 41.9, 42.8, 43.7, 41.3, 40.9, 42.5, 41.6])\n",
    "New_design_data = np.array([48.5, 49.1, 50.2, 47.8, 48.7, 49.9, 48.0, 50.5, 49.8, 49.6, 48.2, 48.9, \n",
    "                         49.7, 50.3, 49.4, 50.1, 48.6, 48.3, 49.0, 50.0, 48.4, 49.3, 49.5, 48.8, \n",
    "                         50.6, 50.4, 48.1, 49.2, 50.7, 50.8])\n"
   ]
  },
  {
   "cell_type": "code",
   "execution_count": 8,
   "metadata": {},
   "outputs": [],
   "source": [
    "pop_std = 2.5\n",
    "n_sp = len(New_design_data) # 30\n",
    "alpha = 0.05 # Assume"
   ]
  },
  {
   "cell_type": "code",
   "execution_count": 9,
   "metadata": {},
   "outputs": [],
   "source": [
    "mean_new = np.mean(New_design_data)\n",
    "mean_old = np.mean(Old_design_data)"
   ]
  },
  {
   "cell_type": "code",
   "execution_count": 10,
   "metadata": {},
   "outputs": [
    {
     "data": {
      "text/plain": [
       "np.float64(16.11034615808528)"
      ]
     },
     "execution_count": 10,
     "metadata": {},
     "output_type": "execute_result"
    }
   ],
   "source": [
    "z_calc = (mean_new - mean_old) / (pop_std / np.sqrt(n_sp))\n",
    "z_calc"
   ]
  },
  {
   "cell_type": "code",
   "execution_count": 11,
   "metadata": {},
   "outputs": [
    {
     "data": {
      "text/plain": [
       "np.float64(1.6448536269514722)"
      ]
     },
     "execution_count": 11,
     "metadata": {},
     "output_type": "execute_result"
    }
   ],
   "source": [
    "z_table = st.norm.ppf(1-alpha)\n",
    "z_table"
   ]
  },
  {
   "cell_type": "code",
   "execution_count": 12,
   "metadata": {},
   "outputs": [
    {
     "name": "stdout",
     "output_type": "stream",
     "text": [
      "New website is better than old\n"
     ]
    }
   ],
   "source": [
    "if z_calc > z_table:\n",
    "    print(\"New website is better than old\")\n",
    "else:\n",
    "    print(\"New website is same as old\")"
   ]
  },
  {
   "cell_type": "markdown",
   "metadata": {},
   "source": [
    "## 2. T Test"
   ]
  },
  {
   "cell_type": "markdown",
   "metadata": {},
   "source": [
    "### Example 1:\n",
    "A manufracturer claims that the average weight of a bag of potato chips is 150 grams. \n",
    "A sample of 25 bags is taken and the average weight is found to be 148 grams, with \n",
    "a standard deviation of 5 grams. Test the manufacturer's claim using a one-tailed t-test \n",
    "with a significance level of 0.05"
   ]
  },
  {
   "cell_type": "code",
   "execution_count": 13,
   "metadata": {},
   "outputs": [],
   "source": [
    "import scipy.stats as st\n",
    "import numpy as np"
   ]
  },
  {
   "cell_type": "code",
   "execution_count": 14,
   "metadata": {},
   "outputs": [],
   "source": [
    "alpha = 0.05\n",
    "pop_mean = 150\n",
    "sam_mean = 148\n",
    "sam_std = 5\n",
    "n = 25"
   ]
  },
  {
   "cell_type": "code",
   "execution_count": 15,
   "metadata": {},
   "outputs": [
    {
     "data": {
      "text/plain": [
       "24"
      ]
     },
     "execution_count": 15,
     "metadata": {},
     "output_type": "execute_result"
    }
   ],
   "source": [
    "df = n - 1\n",
    "df"
   ]
  },
  {
   "cell_type": "code",
   "execution_count": 16,
   "metadata": {},
   "outputs": [
    {
     "data": {
      "text/plain": [
       "np.float64(-2.0)"
      ]
     },
     "execution_count": 16,
     "metadata": {},
     "output_type": "execute_result"
    }
   ],
   "source": [
    "t_calc = (sam_mean - pop_mean) / (sam_std / np.sqrt(n))\n",
    "t_calc"
   ]
  },
  {
   "cell_type": "code",
   "execution_count": 17,
   "metadata": {},
   "outputs": [
    {
     "data": {
      "text/plain": [
       "np.float64(-1.7108820799094282)"
      ]
     },
     "execution_count": 17,
     "metadata": {},
     "output_type": "execute_result"
    }
   ],
   "source": [
    "t_table = st.t.ppf(alpha, df)\n",
    "t_table"
   ]
  },
  {
   "cell_type": "code",
   "execution_count": 18,
   "metadata": {},
   "outputs": [
    {
     "name": "stdout",
     "output_type": "stream",
     "text": [
      "The claim of manifracturer is wrong\n"
     ]
    }
   ],
   "source": [
    "if t_calc > t_table:\n",
    "    print(\"The claim of manufracturer is right\")\n",
    "else:\n",
    "    print(\"The claim of manifracturer is wrong\")"
   ]
  },
  {
   "cell_type": "markdown",
   "metadata": {},
   "source": [
    "### Example 2:\n",
    "A company wants to test whether there is a difference in productivity between two teams. \n",
    "They randomly select 20 employees from each team and record their productivity scores. \n",
    "The mean productivity for Team A is 80 with a standard deviation of 5, while the mean \n",
    "productivity score for Team B is 75 with a standard deviation of 6. Test at 5% level of \n",
    "significance whether there is a difference productivity between two teams."
   ]
  },
  {
   "cell_type": "code",
   "execution_count": 19,
   "metadata": {},
   "outputs": [],
   "source": [
    "import numpy as np\n",
    "from scipy.stats import t"
   ]
  },
  {
   "cell_type": "code",
   "execution_count": 20,
   "metadata": {},
   "outputs": [],
   "source": [
    "level_of_significance = 5 / 100 # 5%\n",
    "nA = nB = 20\n",
    "mean_A = 80\n",
    "std_A = 5\n",
    "mean_B = 75\n",
    "std_B = 6\n"
   ]
  },
  {
   "cell_type": "code",
   "execution_count": 21,
   "metadata": {},
   "outputs": [],
   "source": [
    "alpha = level_of_significance / 2 # It is two tailed\n",
    "df = nA - 1 + nB - 1"
   ]
  },
  {
   "cell_type": "code",
   "execution_count": 22,
   "metadata": {},
   "outputs": [
    {
     "name": "stdout",
     "output_type": "stream",
     "text": [
      "t_table = -2.0243941639119694 and t_calc = 2.862991671569341\n"
     ]
    }
   ],
   "source": [
    "t_table = t.ppf(alpha, df) # Testing for left tail\n",
    "t_calc = (mean_A - mean_B) / np.sqrt((np.square(std_A) / nA) + np.square(std_B) / nB)\n",
    "print(\"t_table =\", t_table, \"and t_calc =\", t_calc)"
   ]
  },
  {
   "cell_type": "code",
   "execution_count": 23,
   "metadata": {},
   "outputs": [
    {
     "name": "stdout",
     "output_type": "stream",
     "text": [
      "Productivity of A != Productivity of B\n"
     ]
    }
   ],
   "source": [
    "if t_calc > t_table:\n",
    "    print(\"Productivity of A != Productivity of B\")\n",
    "else:\n",
    "    print(\"Productivity of A = Productivity of B\")"
   ]
  },
  {
   "cell_type": "markdown",
   "metadata": {},
   "source": [
    "### Example 3:\n",
    "A company wants to test whether a new training program improves the typing speed of its employees. \n",
    "The typing speed of 20 employees was recorded before and after the training program. The data is \n",
    "given below. Test at a 5% level of significance whether the training program has an effect on the \n",
    "typing speed of the employees.\n",
    "- Before: 50, 60, 45, 65, 55, 70, 40, 75, 80, 65, 70, 60, 50, 55, 45, 75, 60, 50, 65, 70</li>\n",
    "- After: 60, 70, 55, 75, 65, 80, 50, 85, 90, 70, 75, 65, 55, 60, 50, 80, 65, 55, 70, 75</li>\n",
    "\n"
   ]
  },
  {
   "cell_type": "code",
   "execution_count": 24,
   "metadata": {},
   "outputs": [],
   "source": [
    "import numpy as np\n",
    "from scipy.stats import t"
   ]
  },
  {
   "cell_type": "code",
   "execution_count": 25,
   "metadata": {},
   "outputs": [],
   "source": [
    "before = np.array([50, 60, 45, 65, 55, 70, 40, 75, 80, 65, 70, 60, 50, 55, 45, 75, 60, 50, 65, 70])\n",
    "after = np.array([60, 70, 55, 75, 65, 80, 50, 85, 90, 70, 75, 65, 55, 60, 50, 80, 65, 55, 70, 75])\n",
    "level_of_significance = 5 / 100 # 5%\n",
    "n = 20"
   ]
  },
  {
   "cell_type": "code",
   "execution_count": 26,
   "metadata": {},
   "outputs": [],
   "source": [
    "alpha = level_of_significance / 2 # It is two tailed\n",
    "df = n - 1"
   ]
  },
  {
   "cell_type": "code",
   "execution_count": 27,
   "metadata": {},
   "outputs": [],
   "source": [
    "mean_before = np.mean(before)\n",
    "mean_after = np.mean(after)\n",
    "std_before = np.std(before)\n",
    "std_after = np.std(after)"
   ]
  },
  {
   "cell_type": "code",
   "execution_count": 28,
   "metadata": {},
   "outputs": [
    {
     "name": "stdout",
     "output_type": "stream",
     "text": [
      "t_table = 2.093024054408263 and t_calc = 2.061200527128206\n"
     ]
    }
   ],
   "source": [
    "t_table = t.ppf(1-alpha, df) # Testing for right tail\n",
    "t_calc = (mean_after - mean_before) / np.sqrt((np.square(std_after) + np.square(std_before)) / n)\n",
    "print(f\"t_table = {t_table} and t_calc = {t_calc}\")"
   ]
  },
  {
   "cell_type": "code",
   "execution_count": 29,
   "metadata": {},
   "outputs": [
    {
     "name": "stdout",
     "output_type": "stream",
     "text": [
      "The training program is not effective\n"
     ]
    }
   ],
   "source": [
    "if t_calc > t_table:\n",
    "    print(\"The training program is effective\")\n",
    "else:\n",
    "    print(\"The training program is not effective\")"
   ]
  },
  {
   "cell_type": "markdown",
   "metadata": {},
   "source": [
    "## 3. Chi Square Test"
   ]
  },
  {
   "cell_type": "markdown",
   "metadata": {},
   "source": [
    "### Example 1:\n",
    "A fair dice is rolled 120 times and the following results are obtained:  \n",
    "Face 1: 22 times  \n",
    "Face 2: 17 times  \n",
    "Face 3: 20 times  \n",
    "Face 4: 26 times  \n",
    "Face 5: 22 times  \n",
    "Face 6: 13 times  \n",
    "Test at 5% level of significance whether the dice is fair."
   ]
  },
  {
   "cell_type": "code",
   "execution_count": 30,
   "metadata": {},
   "outputs": [],
   "source": [
    "import numpy as np\n",
    "from scipy.stats import chi2"
   ]
  },
  {
   "cell_type": "code",
   "execution_count": 31,
   "metadata": {},
   "outputs": [],
   "source": [
    "observed = np.array([22, 17, 20, 26, 22, 13])\n",
    "expected = np.array([20, 20, 20, 20, 20, 20])"
   ]
  },
  {
   "cell_type": "code",
   "execution_count": 32,
   "metadata": {},
   "outputs": [],
   "source": [
    "alpha = 0.05 # Given level of significance is 5%\n",
    "n = 6 # Total number of possibilities when a dice is rolled"
   ]
  },
  {
   "cell_type": "code",
   "execution_count": 33,
   "metadata": {},
   "outputs": [],
   "source": [
    "df = n - 1 # degree of freedom"
   ]
  },
  {
   "cell_type": "code",
   "execution_count": 34,
   "metadata": {},
   "outputs": [
    {
     "name": "stdout",
     "output_type": "stream",
     "text": [
      "chi_critical = 11.070497693516351 and chi_calc = 5.1000000000000005\n"
     ]
    }
   ],
   "source": [
    "chi_critical = chi2.ppf(1-alpha, df) # Right tailed\n",
    "chi_calc = np.sum(np.square(observed - expected) / expected)\n",
    "print(f\"chi_critical = {chi_critical} and chi_calc = {chi_calc}\")"
   ]
  },
  {
   "cell_type": "code",
   "execution_count": 35,
   "metadata": {},
   "outputs": [
    {
     "name": "stdout",
     "output_type": "stream",
     "text": [
      "Dice is fair\n"
     ]
    }
   ],
   "source": [
    "if chi_calc > chi_critical:\n",
    "    print(\"Dice is not fair\")\n",
    "else:\n",
    "    print(\"Dice is fair\")"
   ]
  },
  {
   "cell_type": "markdown",
   "metadata": {},
   "source": [
    "### Example 2:\n",
    "A study wa conducted to investigate whether there is a relationship between gender and the \n",
    "perferred genre of music. A sample of 235 people was selected, and the data collected is shown \n",
    "below. Test at a 5% level of significance whether there is significant association between gender \n",
    "and music preference.\n",
    "|               | Pop           | Hip Hop       | Classical     | Rock          |\n",
    "| ------------- | ------------- |---------------|---------------|---------------|\n",
    "| Male          | 40            | 45            | 25            | 10            |\n",
    "| Female        | 35            | 30            | 20            | 30            |"
   ]
  },
  {
   "cell_type": "code",
   "execution_count": 36,
   "metadata": {},
   "outputs": [],
   "source": [
    "import numpy as np\n",
    "from scipy.stats import chi2"
   ]
  },
  {
   "cell_type": "code",
   "execution_count": 37,
   "metadata": {},
   "outputs": [],
   "source": [
    "alpha = 0.05 # Given level of significance is 5%\n",
    "n = 235 # Sample of 235 people was selected"
   ]
  },
  {
   "cell_type": "code",
   "execution_count": 38,
   "metadata": {},
   "outputs": [],
   "source": [
    "rows = 2 # From table\n",
    "columns = 4"
   ]
  },
  {
   "cell_type": "code",
   "execution_count": 39,
   "metadata": {},
   "outputs": [],
   "source": [
    "row1 = np.array([40, 45, 25, 10])\n",
    "row2 = np.array([35, 30, 20, 30])"
   ]
  },
  {
   "cell_type": "code",
   "execution_count": 40,
   "metadata": {},
   "outputs": [
    {
     "data": {
      "text/plain": [
       "3"
      ]
     },
     "execution_count": 40,
     "metadata": {},
     "output_type": "execute_result"
    }
   ],
   "source": [
    "df = (rows - 1) * (columns - 1)\n",
    "df"
   ]
  },
  {
   "cell_type": "code",
   "execution_count": 41,
   "metadata": {},
   "outputs": [
    {
     "name": "stdout",
     "output_type": "stream",
     "text": [
      "chi_critical 0.35184631774927144\n"
     ]
    }
   ],
   "source": [
    "chi_critical = chi2.ppf(alpha, df)\n",
    "print(\"chi_critical\", chi_critical)"
   ]
  },
  {
   "cell_type": "code",
   "execution_count": 42,
   "metadata": {},
   "outputs": [
    {
     "data": {
      "text/plain": [
       "array([120, 115])"
      ]
     },
     "execution_count": 42,
     "metadata": {},
     "output_type": "execute_result"
    }
   ],
   "source": [
    "sum_row1 = np.sum(row1)\n",
    "sum_row2 = np.sum(row2)\n",
    "sum_rows = np.array([sum_row1, sum_row2]) # Create an array of sum of rows\n",
    "sum_rows"
   ]
  },
  {
   "cell_type": "code",
   "execution_count": 43,
   "metadata": {},
   "outputs": [
    {
     "data": {
      "text/plain": [
       "array([75, 75, 45, 40])"
      ]
     },
     "execution_count": 43,
     "metadata": {},
     "output_type": "execute_result"
    }
   ],
   "source": [
    "sum_columns = row1 + row2 # Find sum of all columns at once in the array\n",
    "sum_columns"
   ]
  },
  {
   "cell_type": "code",
   "execution_count": 44,
   "metadata": {},
   "outputs": [
    {
     "data": {
      "text/plain": [
       "[np.float64(38.297872340425535),\n",
       " np.float64(38.297872340425535),\n",
       " np.float64(22.97872340425532),\n",
       " np.float64(20.425531914893618),\n",
       " np.float64(36.702127659574465),\n",
       " np.float64(36.702127659574465),\n",
       " np.float64(22.02127659574468),\n",
       " np.float64(19.574468085106382)]"
      ]
     },
     "execution_count": 44,
     "metadata": {},
     "output_type": "execute_result"
    }
   ],
   "source": [
    "# Find the expected values\n",
    "expected = []\n",
    "for i in sum_rows:\n",
    "    for j in sum_columns:\n",
    "        expected.append(i*j/n)\n",
    "\n",
    "expected"
   ]
  },
  {
   "cell_type": "code",
   "execution_count": 45,
   "metadata": {},
   "outputs": [
    {
     "data": {
      "text/plain": [
       "array([40, 45, 25, 10, 35, 30, 20, 30])"
      ]
     },
     "execution_count": 45,
     "metadata": {},
     "output_type": "execute_result"
    }
   ],
   "source": [
    "# Get observed values\n",
    "observed = np.append(row1, row2)\n",
    "observed"
   ]
  },
  {
   "cell_type": "code",
   "execution_count": 46,
   "metadata": {},
   "outputs": [
    {
     "name": "stdout",
     "output_type": "stream",
     "text": [
      "chi_calc 13.788747987117553\n"
     ]
    }
   ],
   "source": [
    "chi_calc = np.sum(np.square(observed - expected) / expected)\n",
    "print(\"chi_calc\", chi_calc)"
   ]
  },
  {
   "cell_type": "code",
   "execution_count": 47,
   "metadata": {},
   "outputs": [
    {
     "name": "stdout",
     "output_type": "stream",
     "text": [
      "There is association between gender and music preference\n"
     ]
    }
   ],
   "source": [
    "if chi_calc > chi_critical:\n",
    "    print(\"There is association between gender and music preference\")\n",
    "else:\n",
    "    print(\"There is association between gender and music preference\")"
   ]
  }
 ],
 "metadata": {
  "kernelspec": {
   "display_name": "Python 3",
   "language": "python",
   "name": "python3"
  },
  "language_info": {
   "codemirror_mode": {
    "name": "ipython",
    "version": 3
   },
   "file_extension": ".py",
   "mimetype": "text/x-python",
   "name": "python",
   "nbconvert_exporter": "python",
   "pygments_lexer": "ipython3",
   "version": "3.12.4"
  }
 },
 "nbformat": 4,
 "nbformat_minor": 2
}
