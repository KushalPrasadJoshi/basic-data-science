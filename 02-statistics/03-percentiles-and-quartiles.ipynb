{
 "cells": [
  {
   "cell_type": "markdown",
   "metadata": {},
   "source": [
    "# Percentiles and Quartiles"
   ]
  },
  {
   "cell_type": "markdown",
   "metadata": {},
   "source": [
    "Using percentiles and quartiles to solve real world problems"
   ]
  },
  {
   "cell_type": "code",
   "execution_count": 1,
   "metadata": {},
   "outputs": [],
   "source": [
    "import pandas as pd\n",
    "import numpy as np\n",
    "import matplotlib.pyplot as plt\n",
    "import seaborn as sns"
   ]
  },
  {
   "cell_type": "code",
   "execution_count": 2,
   "metadata": {},
   "outputs": [],
   "source": [
    "dataset = pd.read_csv(\"../assets/csv-files/students.csv\")"
   ]
  },
  {
   "cell_type": "code",
   "execution_count": 3,
   "metadata": {},
   "outputs": [
    {
     "data": {
      "text/html": [
       "<div>\n",
       "<style scoped>\n",
       "    .dataframe tbody tr th:only-of-type {\n",
       "        vertical-align: middle;\n",
       "    }\n",
       "\n",
       "    .dataframe tbody tr th {\n",
       "        vertical-align: top;\n",
       "    }\n",
       "\n",
       "    .dataframe thead th {\n",
       "        text-align: right;\n",
       "    }\n",
       "</style>\n",
       "<table border=\"1\" class=\"dataframe\">\n",
       "  <thead>\n",
       "    <tr style=\"text-align: right;\">\n",
       "      <th></th>\n",
       "      <th>Roll No</th>\n",
       "      <th>Name</th>\n",
       "      <th>Gender</th>\n",
       "      <th>Age</th>\n",
       "      <th>Faculty</th>\n",
       "      <th>Level</th>\n",
       "      <th>Program</th>\n",
       "      <th>Year</th>\n",
       "      <th>Year of Study</th>\n",
       "      <th>GPA</th>\n",
       "      <th>Enrollment Status</th>\n",
       "      <th>Phone Number</th>\n",
       "      <th>Email</th>\n",
       "    </tr>\n",
       "  </thead>\n",
       "  <tbody>\n",
       "    <tr>\n",
       "      <th>0</th>\n",
       "      <td>100000</td>\n",
       "      <td>Student0</td>\n",
       "      <td>F</td>\n",
       "      <td>24.0</td>\n",
       "      <td>Law</td>\n",
       "      <td>Graduate</td>\n",
       "      <td>LLB</td>\n",
       "      <td>2024.0</td>\n",
       "      <td>4.0</td>\n",
       "      <td>3.10</td>\n",
       "      <td>Online</td>\n",
       "      <td>977-9889833788</td>\n",
       "      <td>student100000@university.edu</td>\n",
       "    </tr>\n",
       "    <tr>\n",
       "      <th>1</th>\n",
       "      <td>100001</td>\n",
       "      <td>Student1</td>\n",
       "      <td>M</td>\n",
       "      <td>25.0</td>\n",
       "      <td>Management</td>\n",
       "      <td>Graduate</td>\n",
       "      <td>NaN</td>\n",
       "      <td>2022.0</td>\n",
       "      <td>4.0</td>\n",
       "      <td>2.77</td>\n",
       "      <td>Physical</td>\n",
       "      <td>977-9823190889</td>\n",
       "      <td>student100001@university.edu</td>\n",
       "    </tr>\n",
       "    <tr>\n",
       "      <th>2</th>\n",
       "      <td>100002</td>\n",
       "      <td>Student2</td>\n",
       "      <td>F</td>\n",
       "      <td>29.0</td>\n",
       "      <td>Engineering</td>\n",
       "      <td>Phd</td>\n",
       "      <td>Electrical</td>\n",
       "      <td>2022.0</td>\n",
       "      <td>2.0</td>\n",
       "      <td>2.67</td>\n",
       "      <td>NaN</td>\n",
       "      <td>977-9826760704</td>\n",
       "      <td>student100002@university.edu</td>\n",
       "    </tr>\n",
       "  </tbody>\n",
       "</table>\n",
       "</div>"
      ],
      "text/plain": [
       "   Roll No      Name Gender   Age      Faculty     Level     Program    Year  \\\n",
       "0   100000  Student0      F  24.0          Law  Graduate         LLB  2024.0   \n",
       "1   100001  Student1      M  25.0   Management  Graduate         NaN  2022.0   \n",
       "2   100002  Student2      F  29.0  Engineering       Phd  Electrical  2022.0   \n",
       "\n",
       "   Year of Study   GPA Enrollment Status    Phone Number  \\\n",
       "0            4.0  3.10            Online  977-9889833788   \n",
       "1            4.0  2.77          Physical  977-9823190889   \n",
       "2            2.0  2.67               NaN  977-9826760704   \n",
       "\n",
       "                          Email  \n",
       "0  student100000@university.edu  \n",
       "1  student100001@university.edu  \n",
       "2  student100002@university.edu  "
      ]
     },
     "execution_count": 3,
     "metadata": {},
     "output_type": "execute_result"
    }
   ],
   "source": [
    "dataset.head(3) # Display first three rows"
   ]
  },
  {
   "cell_type": "code",
   "execution_count": 4,
   "metadata": {},
   "outputs": [
    {
     "data": {
      "text/plain": [
       "Roll No                0\n",
       "Name                   0\n",
       "Gender                40\n",
       "Age                   41\n",
       "Faculty               54\n",
       "Level                105\n",
       "Program               99\n",
       "Year                  51\n",
       "Year of Study        105\n",
       "GPA                   54\n",
       "Enrollment Status     59\n",
       "Phone Number          56\n",
       "Email                 55\n",
       "dtype: int64"
      ]
     },
     "execution_count": 4,
     "metadata": {},
     "output_type": "execute_result"
    }
   ],
   "source": [
    "dataset.isnull().sum() # Displays total number of null values present in each column in dataset"
   ]
  },
  {
   "cell_type": "code",
   "execution_count": 5,
   "metadata": {},
   "outputs": [
    {
     "name": "stderr",
     "output_type": "stream",
     "text": [
      "C:\\Users\\kusha\\AppData\\Local\\Temp\\ipykernel_19796\\3651627402.py:2: FutureWarning: A value is trying to be set on a copy of a DataFrame or Series through chained assignment using an inplace method.\n",
      "The behavior will change in pandas 3.0. This inplace method will never work because the intermediate object on which we are setting values always behaves as a copy.\n",
      "\n",
      "For example, when doing 'df[col].method(value, inplace=True)', try using 'df.method({col: value}, inplace=True)' or df[col] = df[col].method(value) instead, to perform the operation inplace on the original object.\n",
      "\n",
      "\n",
      "  dataset[\"Age\"].fillna(dataset[\"Age\"].mean(), inplace=True)\n"
     ]
    }
   ],
   "source": [
    "# Fill up the null values by mean of dataset column\n",
    "dataset[\"Age\"].fillna(dataset[\"Age\"].mean(), inplace=True)"
   ]
  },
  {
   "cell_type": "code",
   "execution_count": 6,
   "metadata": {},
   "outputs": [
    {
     "data": {
      "text/plain": [
       "(np.float64(25.0), np.float64(31.0), np.float64(39.0))"
      ]
     },
     "execution_count": 6,
     "metadata": {},
     "output_type": "execute_result"
    }
   ],
   "source": [
    "# Calculating percentiles\n",
    "p25 = np.percentile(dataset[\"Age\"], 25)\n",
    "p50 = np.percentile(dataset[\"Age\"], 50)\n",
    "p75 = np.percentile(dataset[\"Age\"], 75)\n",
    "p25, p50, p75"
   ]
  },
  {
   "cell_type": "code",
   "execution_count": 7,
   "metadata": {},
   "outputs": [
    {
     "data": {
      "text/html": [
       "<div>\n",
       "<style scoped>\n",
       "    .dataframe tbody tr th:only-of-type {\n",
       "        vertical-align: middle;\n",
       "    }\n",
       "\n",
       "    .dataframe tbody tr th {\n",
       "        vertical-align: top;\n",
       "    }\n",
       "\n",
       "    .dataframe thead th {\n",
       "        text-align: right;\n",
       "    }\n",
       "</style>\n",
       "<table border=\"1\" class=\"dataframe\">\n",
       "  <thead>\n",
       "    <tr style=\"text-align: right;\">\n",
       "      <th></th>\n",
       "      <th>Roll No</th>\n",
       "      <th>Age</th>\n",
       "      <th>Year</th>\n",
       "      <th>Year of Study</th>\n",
       "      <th>GPA</th>\n",
       "    </tr>\n",
       "  </thead>\n",
       "  <tbody>\n",
       "    <tr>\n",
       "      <th>count</th>\n",
       "      <td>500.000000</td>\n",
       "      <td>500.000000</td>\n",
       "      <td>449.000000</td>\n",
       "      <td>395.000000</td>\n",
       "      <td>446.000000</td>\n",
       "    </tr>\n",
       "    <tr>\n",
       "      <th>mean</th>\n",
       "      <td>100249.500000</td>\n",
       "      <td>33.248366</td>\n",
       "      <td>2022.051225</td>\n",
       "      <td>2.924051</td>\n",
       "      <td>2.981614</td>\n",
       "    </tr>\n",
       "    <tr>\n",
       "      <th>std</th>\n",
       "      <td>144.481833</td>\n",
       "      <td>10.608886</td>\n",
       "      <td>1.402980</td>\n",
       "      <td>0.827389</td>\n",
       "      <td>0.548920</td>\n",
       "    </tr>\n",
       "    <tr>\n",
       "      <th>min</th>\n",
       "      <td>100000.000000</td>\n",
       "      <td>19.000000</td>\n",
       "      <td>2020.000000</td>\n",
       "      <td>2.000000</td>\n",
       "      <td>2.000000</td>\n",
       "    </tr>\n",
       "    <tr>\n",
       "      <th>25%</th>\n",
       "      <td>100124.750000</td>\n",
       "      <td>25.000000</td>\n",
       "      <td>2021.000000</td>\n",
       "      <td>2.000000</td>\n",
       "      <td>2.530000</td>\n",
       "    </tr>\n",
       "    <tr>\n",
       "      <th>50%</th>\n",
       "      <td>100249.500000</td>\n",
       "      <td>31.000000</td>\n",
       "      <td>2022.000000</td>\n",
       "      <td>3.000000</td>\n",
       "      <td>2.970000</td>\n",
       "    </tr>\n",
       "    <tr>\n",
       "      <th>75%</th>\n",
       "      <td>100374.250000</td>\n",
       "      <td>39.000000</td>\n",
       "      <td>2023.000000</td>\n",
       "      <td>4.000000</td>\n",
       "      <td>3.440000</td>\n",
       "    </tr>\n",
       "    <tr>\n",
       "      <th>max</th>\n",
       "      <td>100499.000000</td>\n",
       "      <td>59.000000</td>\n",
       "      <td>2024.000000</td>\n",
       "      <td>4.000000</td>\n",
       "      <td>3.980000</td>\n",
       "    </tr>\n",
       "  </tbody>\n",
       "</table>\n",
       "</div>"
      ],
      "text/plain": [
       "             Roll No         Age         Year  Year of Study         GPA\n",
       "count     500.000000  500.000000   449.000000     395.000000  446.000000\n",
       "mean   100249.500000   33.248366  2022.051225       2.924051    2.981614\n",
       "std       144.481833   10.608886     1.402980       0.827389    0.548920\n",
       "min    100000.000000   19.000000  2020.000000       2.000000    2.000000\n",
       "25%    100124.750000   25.000000  2021.000000       2.000000    2.530000\n",
       "50%    100249.500000   31.000000  2022.000000       3.000000    2.970000\n",
       "75%    100374.250000   39.000000  2023.000000       4.000000    3.440000\n",
       "max    100499.000000   59.000000  2024.000000       4.000000    3.980000"
      ]
     },
     "execution_count": 7,
     "metadata": {},
     "output_type": "execute_result"
    }
   ],
   "source": [
    "'''Display all percentiles 0%, 25%, 50%, 75% and 100% of all numerical columns at once'''\n",
    "dataset.describe()"
   ]
  },
  {
   "cell_type": "markdown",
   "metadata": {},
   "source": [
    "Plotting a graph"
   ]
  },
  {
   "cell_type": "code",
   "execution_count": 8,
   "metadata": {},
   "outputs": [
    {
     "data": {
      "image/png": "[encoded data removed]",
      "text/plain": [
       "<Figure size 640x480 with 1 Axes>"
      ]
     },
     "metadata": {},
     "output_type": "display_data"
    },
    {
     "data": {
      "text/plain": [
       "'Outliers are seen far from the main block near the ends'"
      ]
     },
     "execution_count": 8,
     "metadata": {},
     "output_type": "execute_result"
    }
   ],
   "source": [
    "# We can see outliers by using a box plot\n",
    "sns.boxplot(x=\"Age\", data=dataset)\n",
    "plt.show()\n",
    "\n",
    "'''Outliers are seen far from the main block near the ends'''"
   ]
  }
 ],
 "metadata": {
  "kernelspec": {
   "display_name": "Python 3",
   "language": "python",
   "name": "python3"
  },
  "language_info": {
   "codemirror_mode": {
    "name": "ipython",
    "version": 3
   },
   "file_extension": ".py",
   "mimetype": "text/x-python",
   "name": "python",
   "nbconvert_exporter": "python",
   "pygments_lexer": "ipython3",
   "version": "3.13.2"
  }
 },
 "nbformat": 4,
 "nbformat_minor": 2
}
