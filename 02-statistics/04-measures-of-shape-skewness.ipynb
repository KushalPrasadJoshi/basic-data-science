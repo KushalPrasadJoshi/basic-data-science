{
 "cells": [
  {
   "cell_type": "markdown",
   "metadata": {},
   "source": [
    "# Measures of Shape-Skewness"
   ]
  },
  {
   "cell_type": "code",
   "execution_count": 1,
   "metadata": {},
   "outputs": [],
   "source": [
    "import pandas as pd\n",
    "import numpy as np\n",
    "import matplotlib.pyplot as plt\n",
    "import seaborn as sns"
   ]
  },
  {
   "cell_type": "code",
   "execution_count": null,
   "metadata": {},
   "outputs": [],
   "source": [
    "dataset = pd.read_csv(\"../assets/csv-files/students.csv\")"
   ]
  },
  {
   "cell_type": "code",
   "execution_count": 4,
   "metadata": {},
   "outputs": [
    {
     "data": {
      "text/html": [
       "<div>\n",
       "<style scoped>\n",
       "    .dataframe tbody tr th:only-of-type {\n",
       "        vertical-align: middle;\n",
       "    }\n",
       "\n",
       "    .dataframe tbody tr th {\n",
       "        vertical-align: top;\n",
       "    }\n",
       "\n",
       "    .dataframe thead th {\n",
       "        text-align: right;\n",
       "    }\n",
       "</style>\n",
       "<table border=\"1\" class=\"dataframe\">\n",
       "  <thead>\n",
       "    <tr style=\"text-align: right;\">\n",
       "      <th></th>\n",
       "      <th>Roll No</th>\n",
       "      <th>Name</th>\n",
       "      <th>Gender</th>\n",
       "      <th>Age</th>\n",
       "      <th>Faculty</th>\n",
       "      <th>Level</th>\n",
       "      <th>Program</th>\n",
       "      <th>Year</th>\n",
       "      <th>Year of Study</th>\n",
       "      <th>GPA</th>\n",
       "      <th>Enrollment Status</th>\n",
       "      <th>Phone Number</th>\n",
       "      <th>Email</th>\n",
       "    </tr>\n",
       "  </thead>\n",
       "  <tbody>\n",
       "    <tr>\n",
       "      <th>0</th>\n",
       "      <td>100000</td>\n",
       "      <td>Student0</td>\n",
       "      <td>F</td>\n",
       "      <td>24.0</td>\n",
       "      <td>Law</td>\n",
       "      <td>Graduate</td>\n",
       "      <td>LLB</td>\n",
       "      <td>2024.0</td>\n",
       "      <td>4.0</td>\n",
       "      <td>3.10</td>\n",
       "      <td>Online</td>\n",
       "      <td>977-9889833788</td>\n",
       "      <td>student100000@university.edu</td>\n",
       "    </tr>\n",
       "    <tr>\n",
       "      <th>1</th>\n",
       "      <td>100001</td>\n",
       "      <td>Student1</td>\n",
       "      <td>M</td>\n",
       "      <td>25.0</td>\n",
       "      <td>Management</td>\n",
       "      <td>Graduate</td>\n",
       "      <td>NaN</td>\n",
       "      <td>2022.0</td>\n",
       "      <td>4.0</td>\n",
       "      <td>2.77</td>\n",
       "      <td>Physical</td>\n",
       "      <td>977-9823190889</td>\n",
       "      <td>student100001@university.edu</td>\n",
       "    </tr>\n",
       "    <tr>\n",
       "      <th>2</th>\n",
       "      <td>100002</td>\n",
       "      <td>Student2</td>\n",
       "      <td>F</td>\n",
       "      <td>29.0</td>\n",
       "      <td>Engineering</td>\n",
       "      <td>Phd</td>\n",
       "      <td>Electrical</td>\n",
       "      <td>2022.0</td>\n",
       "      <td>2.0</td>\n",
       "      <td>2.67</td>\n",
       "      <td>NaN</td>\n",
       "      <td>977-9826760704</td>\n",
       "      <td>student100002@university.edu</td>\n",
       "    </tr>\n",
       "  </tbody>\n",
       "</table>\n",
       "</div>"
      ],
      "text/plain": [
       "   Roll No      Name Gender   Age      Faculty     Level     Program    Year  \\\n",
       "0   100000  Student0      F  24.0          Law  Graduate         LLB  2024.0   \n",
       "1   100001  Student1      M  25.0   Management  Graduate         NaN  2022.0   \n",
       "2   100002  Student2      F  29.0  Engineering       Phd  Electrical  2022.0   \n",
       "\n",
       "   Year of Study   GPA Enrollment Status    Phone Number  \\\n",
       "0            4.0  3.10            Online  977-9889833788   \n",
       "1            4.0  2.77          Physical  977-9823190889   \n",
       "2            2.0  2.67               NaN  977-9826760704   \n",
       "\n",
       "                          Email  \n",
       "0  student100000@university.edu  \n",
       "1  student100001@university.edu  \n",
       "2  student100002@university.edu  "
      ]
     },
     "execution_count": 4,
     "metadata": {},
     "output_type": "execute_result"
    }
   ],
   "source": [
    "dataset.head(3)"
   ]
  },
  {
   "cell_type": "code",
   "execution_count": 5,
   "metadata": {},
   "outputs": [
    {
     "data": {
      "text/plain": [
       "np.float64(0.8055474216319047)"
      ]
     },
     "execution_count": 5,
     "metadata": {},
     "output_type": "execute_result"
    }
   ],
   "source": [
    "dataset[\"Age\"].skew() # Returns skewness of column\n",
    "# If skewness > 0 --> positively skewed\n",
    "# If skewness < 0 --> negatively skewed\n",
    "# If skewness = 0 --> no skew"
   ]
  },
  {
   "cell_type": "markdown",
   "metadata": {},
   "source": [
    "Creating a visual"
   ]
  },
  {
   "cell_type": "code",
   "execution_count": 6,
   "metadata": {},
   "outputs": [
    {
     "data": {
      "image/png": "[encoded data removed]",
      "text/plain": [
       "<Figure size 640x480 with 1 Axes>"
      ]
     },
     "metadata": {},
     "output_type": "display_data"
    }
   ],
   "source": [
    "# Plot a histogram for visualization\n",
    "sns.histplot(x=\"Age\", data=dataset)\n",
    "plt.show()"
   ]
  },
  {
   "cell_type": "markdown",
   "metadata": {},
   "source": [
    "Visualization by creating our own data"
   ]
  },
  {
   "cell_type": "code",
   "execution_count": 7,
   "metadata": {},
   "outputs": [],
   "source": [
    "data = np.random.normal(0, 100, 100) # Create a random array of data"
   ]
  },
  {
   "cell_type": "code",
   "execution_count": 8,
   "metadata": {},
   "outputs": [
    {
     "data": {
      "text/plain": [
       "array([ -41.69525083,   -5.63440355,   76.83969638,  -78.95262952,\n",
       "       -108.86547944,   54.98120818,   -5.08632032,  -57.3981162 ,\n",
       "        -10.66784511,  -41.2826528 ,   50.20882624,   14.94717942,\n",
       "         59.07519912,   98.85931803,   65.78872416,   14.69306445,\n",
       "       -129.56293432,  -81.71449136,  175.00729316,   13.14411354,\n",
       "          0.51206672,  192.70875183,   -3.03532181, -103.17542717,\n",
       "        -51.20467268,   16.29071122,   28.59263324,  -37.51584639,\n",
       "       -140.07726927,   43.84321226,   82.70300203,   -6.42095982,\n",
       "         88.83577615,  -11.14881282,    0.41422625,  -59.51389683,\n",
       "        -96.33912213,    4.895068  ,  -97.47903823,  -14.49033503,\n",
       "         40.35924914,   36.39023856,   -8.34198074,  -37.4858554 ,\n",
       "        -94.91269042,   50.72885512, -163.15594373,  102.57901927,\n",
       "        180.93804253,  154.7950099 ,   65.42530496,   17.56206553,\n",
       "         90.69229676,  -94.61804001,  -61.03875613, -128.10573579,\n",
       "       -179.58963859,  -14.81438348,  -49.40108607,   84.4242906 ,\n",
       "         40.29122357,  -47.21540408,  -29.24189351,   30.30203712,\n",
       "        -68.77200271,   50.97978527,   20.82761628, -221.28541457,\n",
       "       -146.14395016, -143.10729931,  -27.49411199, -172.42104798,\n",
       "         69.63615644,  -44.4244375 ,  -61.12016061,   99.05491988,\n",
       "         29.75810356,  -19.61814478,  219.74644391,    7.08874564,\n",
       "        234.8325506 ,   59.8912458 ,  133.46818871,   -2.10921801,\n",
       "        -23.40802803,   23.78714943,  284.04405033,   99.2914817 ,\n",
       "         58.68642997, -184.05802216,  -24.15259291,  130.57978033,\n",
       "         27.73084672, -186.08427061,   41.12071872,   79.29253611,\n",
       "         -5.05115247,   53.90368027,  -41.77888571,   29.52836276])"
      ]
     },
     "execution_count": 8,
     "metadata": {},
     "output_type": "execute_result"
    }
   ],
   "source": [
    "data # Display the created data"
   ]
  },
  {
   "cell_type": "code",
   "execution_count": 9,
   "metadata": {},
   "outputs": [
    {
     "data": {
      "text/plain": [
       "np.float64(0.18702084382910167)"
      ]
     },
     "execution_count": 9,
     "metadata": {},
     "output_type": "execute_result"
    }
   ],
   "source": [
    "df = pd.DataFrame({\"x\" : data}) # Create a column x where all the data is placed in different rows\n",
    "df[\"x\"].skew() # Gives skewness"
   ]
  },
  {
   "cell_type": "code",
   "execution_count": 12,
   "metadata": {},
   "outputs": [
    {
     "data": {
      "image/png": "[encoded data removed]",
      "text/plain": [
       "<Figure size 640x480 with 1 Axes>"
      ]
     },
     "metadata": {},
     "output_type": "display_data"
    }
   ],
   "source": [
    "# Create a histogram for visulaization\n",
    "sns.histplot(x=\"x\", data=df)\n",
    "plt.show()"
   ]
  },
  {
   "cell_type": "markdown",
   "metadata": {},
   "source": [
    "The normal non-skewed data can be created as follows:"
   ]
  },
  {
   "cell_type": "code",
   "execution_count": 13,
   "metadata": {},
   "outputs": [],
   "source": [
    "data = [2, 3, 3, 4, 4, 4, 5, 5, 5, 5, 6, 6, 6, 6, 6, 7, 7, 7, 7, 7, 7,\n",
    "        8, 8, 8, 8, 8, 9, 9, 9, 9, 10, 10, 10, 11, 11, 12]  # Non skewed data"
   ]
  },
  {
   "cell_type": "code",
   "execution_count": 14,
   "metadata": {},
   "outputs": [],
   "source": [
    "df = pd.DataFrame({\"x\" : data}) # Create a column named x under which all data is placed"
   ]
  },
  {
   "cell_type": "code",
   "execution_count": 15,
   "metadata": {},
   "outputs": [
    {
     "data": {
      "text/plain": [
       "np.float64(0.0)"
      ]
     },
     "execution_count": 15,
     "metadata": {},
     "output_type": "execute_result"
    }
   ],
   "source": [
    "df[\"x\"].skew() # 0 skew"
   ]
  },
  {
   "cell_type": "code",
   "execution_count": 16,
   "metadata": {},
   "outputs": [
    {
     "data": {
      "image/png": "[encoded data removed]",
      "text/plain": [
       "<Figure size 640x480 with 1 Axes>"
      ]
     },
     "metadata": {},
     "output_type": "display_data"
    }
   ],
   "source": [
    "# Histogram will be symmetrical\n",
    "sns.histplot(x=\"x\", data=df, bins=[2, 3, 4, 5, 6, 7, 8, 9, 10, 11, 12, 13])\n",
    "plt.show()"
   ]
  },
  {
   "cell_type": "code",
   "execution_count": 17,
   "metadata": {},
   "outputs": [
    {
     "data": {
      "text/plain": [
       "(np.float64(7.0), np.float64(7.0), np.int64(7))"
      ]
     },
     "execution_count": 17,
     "metadata": {},
     "output_type": "execute_result"
    }
   ],
   "source": [
    "# Mean, Median, Mode will be same\n",
    "df[\"x\"].mean(), df[\"x\"].median(), df[\"x\"].mode()[0]"
   ]
  }
 ],
 "metadata": {
  "kernelspec": {
   "display_name": "Python 3",
   "language": "python",
   "name": "python3"
  },
  "language_info": {
   "codemirror_mode": {
    "name": "ipython",
    "version": 3
   },
   "file_extension": ".py",
   "mimetype": "text/x-python",
   "name": "python",
   "nbconvert_exporter": "python",
   "pygments_lexer": "ipython3",
   "version": "3.13.3"
  }
 },
 "nbformat": 4,
 "nbformat_minor": 2
}
