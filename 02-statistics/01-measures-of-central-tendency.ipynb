{
 "cells": [
  {
   "cell_type": "markdown",
   "metadata": {},
   "source": [
    "# Measures of Central Tendency"
   ]
  },
  {
   "cell_type": "markdown",
   "metadata": {},
   "source": [
    "## 1. Mean"
   ]
  },
  {
   "cell_type": "code",
   "execution_count": 1,
   "metadata": {},
   "outputs": [],
   "source": [
    "import numpy as np\n",
    "import pandas as pd"
   ]
  },
  {
   "cell_type": "code",
   "execution_count": 2,
   "metadata": {},
   "outputs": [],
   "source": [
    "ar = np.array([4, 5, 6, 2, 1, 8, 5, 6, 4, 7])"
   ]
  },
  {
   "cell_type": "code",
   "execution_count": 3,
   "metadata": {},
   "outputs": [
    {
     "data": {
      "text/plain": [
       "np.float64(4.8)"
      ]
     },
     "execution_count": 3,
     "metadata": {},
     "output_type": "execute_result"
    }
   ],
   "source": [
    "np.sum(ar) / len(ar)  # Manual process"
   ]
  },
  {
   "cell_type": "code",
   "execution_count": 4,
   "metadata": {},
   "outputs": [
    {
     "data": {
      "text/plain": [
       "np.float64(4.8)"
      ]
     },
     "execution_count": 4,
     "metadata": {},
     "output_type": "execute_result"
    }
   ],
   "source": [
    "np.mean(ar) # Automatic process"
   ]
  },
  {
   "cell_type": "markdown",
   "metadata": {},
   "source": [
    "For solving real world problems"
   ]
  },
  {
   "cell_type": "code",
   "execution_count": 5,
   "metadata": {},
   "outputs": [],
   "source": [
    "dataset = pd.read_csv(\"../assets/csv-files/students.csv\") # Read csv file"
   ]
  },
  {
   "cell_type": "code",
   "execution_count": 6,
   "metadata": {},
   "outputs": [
    {
     "data": {
      "text/html": [
       "<div>\n",
       "<style scoped>\n",
       "    .dataframe tbody tr th:only-of-type {\n",
       "        vertical-align: middle;\n",
       "    }\n",
       "\n",
       "    .dataframe tbody tr th {\n",
       "        vertical-align: top;\n",
       "    }\n",
       "\n",
       "    .dataframe thead th {\n",
       "        text-align: right;\n",
       "    }\n",
       "</style>\n",
       "<table border=\"1\" class=\"dataframe\">\n",
       "  <thead>\n",
       "    <tr style=\"text-align: right;\">\n",
       "      <th></th>\n",
       "      <th>Roll No</th>\n",
       "      <th>Name</th>\n",
       "      <th>Gender</th>\n",
       "      <th>Age</th>\n",
       "      <th>Faculty</th>\n",
       "      <th>Level</th>\n",
       "      <th>Program</th>\n",
       "      <th>Year</th>\n",
       "      <th>Year of Study</th>\n",
       "      <th>GPA</th>\n",
       "      <th>Enrollment Status</th>\n",
       "      <th>Phone Number</th>\n",
       "      <th>Email</th>\n",
       "    </tr>\n",
       "  </thead>\n",
       "  <tbody>\n",
       "    <tr>\n",
       "      <th>0</th>\n",
       "      <td>100000</td>\n",
       "      <td>Student0</td>\n",
       "      <td>F</td>\n",
       "      <td>24.0</td>\n",
       "      <td>Law</td>\n",
       "      <td>Graduate</td>\n",
       "      <td>LLB</td>\n",
       "      <td>2024.0</td>\n",
       "      <td>4.0</td>\n",
       "      <td>3.10</td>\n",
       "      <td>Online</td>\n",
       "      <td>977-9889833788</td>\n",
       "      <td>student100000@university.edu</td>\n",
       "    </tr>\n",
       "    <tr>\n",
       "      <th>1</th>\n",
       "      <td>100001</td>\n",
       "      <td>Student1</td>\n",
       "      <td>M</td>\n",
       "      <td>25.0</td>\n",
       "      <td>Management</td>\n",
       "      <td>Graduate</td>\n",
       "      <td>NaN</td>\n",
       "      <td>2022.0</td>\n",
       "      <td>4.0</td>\n",
       "      <td>2.77</td>\n",
       "      <td>Physical</td>\n",
       "      <td>977-9823190889</td>\n",
       "      <td>student100001@university.edu</td>\n",
       "    </tr>\n",
       "    <tr>\n",
       "      <th>2</th>\n",
       "      <td>100002</td>\n",
       "      <td>Student2</td>\n",
       "      <td>F</td>\n",
       "      <td>29.0</td>\n",
       "      <td>Engineering</td>\n",
       "      <td>Phd</td>\n",
       "      <td>Electrical</td>\n",
       "      <td>2022.0</td>\n",
       "      <td>2.0</td>\n",
       "      <td>2.67</td>\n",
       "      <td>NaN</td>\n",
       "      <td>977-9826760704</td>\n",
       "      <td>student100002@university.edu</td>\n",
       "    </tr>\n",
       "  </tbody>\n",
       "</table>\n",
       "</div>"
      ],
      "text/plain": [
       "   Roll No      Name Gender   Age      Faculty     Level     Program    Year  \\\n",
       "0   100000  Student0      F  24.0          Law  Graduate         LLB  2024.0   \n",
       "1   100001  Student1      M  25.0   Management  Graduate         NaN  2022.0   \n",
       "2   100002  Student2      F  29.0  Engineering       Phd  Electrical  2022.0   \n",
       "\n",
       "   Year of Study   GPA Enrollment Status    Phone Number  \\\n",
       "0            4.0  3.10            Online  977-9889833788   \n",
       "1            4.0  2.77          Physical  977-9823190889   \n",
       "2            2.0  2.67               NaN  977-9826760704   \n",
       "\n",
       "                          Email  \n",
       "0  student100000@university.edu  \n",
       "1  student100001@university.edu  \n",
       "2  student100002@university.edu  "
      ]
     },
     "execution_count": 6,
     "metadata": {},
     "output_type": "execute_result"
    }
   ],
   "source": [
    "dataset.head(3) # Shows first three rows"
   ]
  },
  {
   "cell_type": "code",
   "execution_count": 7,
   "metadata": {},
   "outputs": [
    {
     "data": {
      "text/plain": [
       "np.float64(33.248366013071895)"
      ]
     },
     "execution_count": 7,
     "metadata": {},
     "output_type": "execute_result"
    }
   ],
   "source": [
    "dataset[\"Age\"].mean() # Find mean of a column  using pandas"
   ]
  },
  {
   "cell_type": "code",
   "execution_count": 8,
   "metadata": {},
   "outputs": [
    {
     "data": {
      "text/plain": [
       "np.float64(33.248366013071895)"
      ]
     },
     "execution_count": 8,
     "metadata": {},
     "output_type": "execute_result"
    }
   ],
   "source": [
    "np.mean(dataset[\"Age\"]) # Find mean  of a column using numpy"
   ]
  },
  {
   "cell_type": "markdown",
   "metadata": {},
   "source": [
    "For graphical output"
   ]
  },
  {
   "cell_type": "code",
   "execution_count": 12,
   "metadata": {},
   "outputs": [],
   "source": [
    "import matplotlib.pyplot as plt # To create graphs\n",
    "import seaborn as sns # For advancements in graphs"
   ]
  },
  {
   "cell_type": "code",
   "execution_count": 13,
   "metadata": {},
   "outputs": [],
   "source": [
    "mn = np.mean(dataset[\"Age\"]) # Store mean in mn"
   ]
  },
  {
   "cell_type": "code",
   "execution_count": 39,
   "metadata": {},
   "outputs": [
    {
     "data": {
      "image/png": "[encoded data removed]",
      "text/plain": [
       "<Figure size 640x480 with 1 Axes>"
      ]
     },
     "metadata": {},
     "output_type": "display_data"
    },
    {
     "data": {
      "text/plain": [
       "'The red line in the graph is mean'"
      ]
     },
     "execution_count": 39,
     "metadata": {},
     "output_type": "execute_result"
    }
   ],
   "source": [
    "sns.histplot(x=\"Age\", data = dataset, bins = [i for i in range(0, 100, 10)])\n",
    "# bins is used to manage bins of graph columns\n",
    "# This is column vs data graph\n",
    "plt.plot([mn for i in range (0, 250)], [i for i in range (0, 250)], c = \"red\") # Display mean in graph\n",
    "# plt.plot([mn, mn], [0, 250], c = \"green\") # Display mean in graph (Simple way)\n",
    "plt.show() # Display graph with all figures\n",
    "'''The red line in the graph is mean'''"
   ]
  },
  {
   "cell_type": "markdown",
   "metadata": {},
   "source": [
    "## 2. Median"
   ]
  },
  {
   "cell_type": "code",
   "execution_count": 40,
   "metadata": {},
   "outputs": [
    {
     "data": {
      "text/plain": [
       "Roll No                0\n",
       "Name                   0\n",
       "Gender                40\n",
       "Age                   41\n",
       "Faculty               54\n",
       "Level                105\n",
       "Program               99\n",
       "Year                  51\n",
       "Year of Study        105\n",
       "GPA                   54\n",
       "Enrollment Status     59\n",
       "Phone Number          56\n",
       "Email                 55\n",
       "dtype: int64"
      ]
     },
     "execution_count": 40,
     "metadata": {},
     "output_type": "execute_result"
    }
   ],
   "source": [
    "dataset.isnull().sum() # Displays total number of null values in each column in dataset"
   ]
  },
  {
   "cell_type": "code",
   "execution_count": 41,
   "metadata": {},
   "outputs": [
    {
     "name": "stderr",
     "output_type": "stream",
     "text": [
      "C:\\Users\\kusha\\AppData\\Local\\Temp\\ipykernel_7244\\2671712840.py:1: FutureWarning: A value is trying to be set on a copy of a DataFrame or Series through chained assignment using an inplace method.\n",
      "The behavior will change in pandas 3.0. This inplace method will never work because the intermediate object on which we are setting values always behaves as a copy.\n",
      "\n",
      "For example, when doing 'df[col].method(value, inplace=True)', try using 'df.method({col: value}, inplace=True)' or df[col] = df[col].method(value) instead, to perform the operation inplace on the original object.\n",
      "\n",
      "\n",
      "  dataset[\"Age\"].fillna(dataset[\"Age\"].mean(), inplace=True)\n"
     ]
    }
   ],
   "source": [
    "dataset[\"Age\"].fillna(dataset[\"Age\"].mean(), inplace=True)\n",
    "# Filling up the null values by the mean of dataset column\n",
    "# (Data cleaning uses measurement of central tendency)"
   ]
  },
  {
   "cell_type": "code",
   "execution_count": 42,
   "metadata": {},
   "outputs": [
    {
     "data": {
      "text/plain": [
       "np.float64(31.0)"
      ]
     },
     "execution_count": 42,
     "metadata": {},
     "output_type": "execute_result"
    }
   ],
   "source": [
    "# Now there is no null value in column. So, we can find median\n",
    "np.median(dataset[\"Age\"]) # Find median using numpy"
   ]
  },
  {
   "cell_type": "code",
   "execution_count": 43,
   "metadata": {},
   "outputs": [
    {
     "data": {
      "text/plain": [
       "np.float64(31.0)"
      ]
     },
     "execution_count": 43,
     "metadata": {},
     "output_type": "execute_result"
    }
   ],
   "source": [
    "dataset[\"Age\"].median() # Find median using pandas"
   ]
  },
  {
   "cell_type": "markdown",
   "metadata": {},
   "source": [
    "For graphical output"
   ]
  },
  {
   "cell_type": "code",
   "execution_count": 16,
   "metadata": {},
   "outputs": [],
   "source": [
    "md = np.median(dataset[\"Age\"]) # Store median in md"
   ]
  },
  {
   "cell_type": "code",
   "execution_count": 17,
   "metadata": {},
   "outputs": [
    {
     "data": {
      "image/png": "[encoded data removed]",
      "text/plain": [
       "<Figure size 640x480 with 1 Axes>"
      ]
     },
     "metadata": {},
     "output_type": "display_data"
    },
    {
     "data": {
      "text/plain": [
       "'The blue line in the graph is median'"
      ]
     },
     "execution_count": 17,
     "metadata": {},
     "output_type": "execute_result"
    }
   ],
   "source": [
    "sns.histplot(x=\"Age\", data=dataset, bins=[i for i in range(0, 100, 10)]) # Graph format\n",
    "plt.plot([md for i in range(0, 250)], [i for i in range(0, 250)], c=\"blue\") # Plot mean in graph\n",
    "plt.show() # Display graph with all figures\n",
    "'''The blue line in the graph is median'''"
   ]
  },
  {
   "cell_type": "code",
   "execution_count": 46,
   "metadata": {},
   "outputs": [
    {
     "data": {
      "image/png": "[encoded data removed]",
      "text/plain": [
       "<Figure size 640x480 with 1 Axes>"
      ]
     },
     "metadata": {},
     "output_type": "display_data"
    }
   ],
   "source": [
    "# Same plot in simple way\n",
    "md = dataset.Age.median()\n",
    "\n",
    "sns.histplot(x=dataset.Age, bins=list(range(0, 100, 10)))\n",
    "plt.plot([md, md], [0, 250], c='red')\n",
    "plt.show()"
   ]
  },
  {
   "cell_type": "markdown",
   "metadata": {},
   "source": [
    "## 3. Mode"
   ]
  },
  {
   "cell_type": "code",
   "execution_count": 48,
   "metadata": {},
   "outputs": [],
   "source": [
    "dataset = pd.read_csv(\"../assets/csv-files/students.csv\") # Read csv file"
   ]
  },
  {
   "cell_type": "code",
   "execution_count": 52,
   "metadata": {},
   "outputs": [
    {
     "data": {
      "text/plain": [
       "np.float64(25.0)"
      ]
     },
     "execution_count": 52,
     "metadata": {},
     "output_type": "execute_result"
    }
   ],
   "source": [
    "dataset[\"Age\"].mode()[0] # Calculate mode using pandas\n",
    "# Index 0 is used because it returns a series and the mode is the first data of the series"
   ]
  },
  {
   "cell_type": "code",
   "execution_count": 53,
   "metadata": {},
   "outputs": [
    {
     "data": {
      "text/plain": [
       "Age\n",
       "25.0    30\n",
       "26.0    27\n",
       "24.0    25\n",
       "32.0    24\n",
       "33.0    23\n",
       "27.0    22\n",
       "29.0    22\n",
       "19.0    22\n",
       "28.0    19\n",
       "31.0    18\n",
       "22.0    17\n",
       "20.0    14\n",
       "30.0    13\n",
       "47.0    13\n",
       "39.0    12\n",
       "21.0    12\n",
       "23.0    12\n",
       "34.0    12\n",
       "56.0     9\n",
       "38.0     9\n",
       "53.0     8\n",
       "48.0     8\n",
       "45.0     6\n",
       "55.0     6\n",
       "50.0     6\n",
       "57.0     6\n",
       "44.0     6\n",
       "43.0     5\n",
       "59.0     5\n",
       "51.0     5\n",
       "52.0     5\n",
       "36.0     5\n",
       "58.0     5\n",
       "49.0     5\n",
       "41.0     4\n",
       "40.0     4\n",
       "54.0     4\n",
       "35.0     3\n",
       "46.0     3\n",
       "42.0     3\n",
       "37.0     2\n",
       "Name: count, dtype: int64"
      ]
     },
     "execution_count": 53,
     "metadata": {},
     "output_type": "execute_result"
    }
   ],
   "source": [
    "dataset[\"Age\"].value_counts() # Shows frequencies of datas in column"
   ]
  },
  {
   "cell_type": "markdown",
   "metadata": {},
   "source": [
    "To get graphical output"
   ]
  },
  {
   "cell_type": "code",
   "execution_count": 54,
   "metadata": {},
   "outputs": [],
   "source": [
    "mo = dataset[\"Age\"].mode()[0] # Store mode in mo"
   ]
  },
  {
   "cell_type": "code",
   "execution_count": 22,
   "metadata": {},
   "outputs": [
    {
     "data": {
      "image/png": "[encoded data removed]",
      "text/plain": [
       "<Figure size 640x480 with 1 Axes>"
      ]
     },
     "metadata": {},
     "output_type": "display_data"
    },
    {
     "data": {
      "text/plain": [
       "'The green line in the graph is mode'"
      ]
     },
     "execution_count": 22,
     "metadata": {},
     "output_type": "execute_result"
    }
   ],
   "source": [
    "sns.histplot(x=\"Age\", data= dataset, bins=[i for i in range(0, 100, 10)]) # Graph format\n",
    "plt.plot([mo for i in range(0, 250)], [i for i in range(0, 250)], c=\"green\") # Plot mode in graph\n",
    "plt.show() # Display graph with all figures\n",
    "'''The green line in the graph is mode'''"
   ]
  },
  {
   "cell_type": "code",
   "execution_count": 56,
   "metadata": {},
   "outputs": [
    {
     "data": {
      "image/png": "[encoded data removed]",
      "text/plain": [
       "<Figure size 640x480 with 1 Axes>"
      ]
     },
     "metadata": {},
     "output_type": "display_data"
    }
   ],
   "source": [
    "# Same plot in simple way\n",
    "mo = dataset.Age.mode()[0]\n",
    "sns.histplot(dataset.Age, bins=range(0, 100, 10))\n",
    "plt.plot([mo, mo], [0, 250], c='green')\n",
    "plt.show()"
   ]
  },
  {
   "cell_type": "markdown",
   "metadata": {},
   "source": [
    "To display mean, median and mode in same graph"
   ]
  },
  {
   "cell_type": "code",
   "execution_count": 23,
   "metadata": {},
   "outputs": [
    {
     "data": {
      "image/png": "[encoded data removed]",
      "text/plain": [
       "<Figure size 640x480 with 1 Axes>"
      ]
     },
     "metadata": {},
     "output_type": "display_data"
    }
   ],
   "source": [
    "sns.histplot(x=\"Age\", data=dataset, bins=[i for i in range(0, 100, 10)]) # Graph format\n",
    "plt.plot([mn for i in range(0, 250)], [i for i in range(0, 250)], c=\"red\", label=\"mean\") # Plot mean in graph\n",
    "# label is used to show the labeling og colours with the graphs in legend\n",
    "plt.plot([md for i in range(0, 250)], [i for i in range(0, 250)], c=\"blue\", label=\"median\") # Plot median in graph\n",
    "plt.plot([mo for i in range(0, 250)], [i for i in range(0, 250)], c=\"green\", label=\"mode\") # Plot mode in graph\n",
    "plt.legend() # Show legend according to given labels\n",
    "plt.show() # Show graph with all figures\n"
   ]
  },
  {
   "cell_type": "code",
   "execution_count": 57,
   "metadata": {},
   "outputs": [
    {
     "data": {
      "image/png": "[encoded data removed]",
      "text/plain": [
       "<Figure size 640x480 with 1 Axes>"
      ]
     },
     "metadata": {},
     "output_type": "display_data"
    }
   ],
   "source": [
    "# The above plot in a simple way\n",
    "sns.histplot(dataset.Age, bins=range(0, 100, 10))\n",
    "plt.plot([mn, mn], [0, 250], c='red', label='mean')\n",
    "plt.plot([md, md], [0, 250], c='blue', label='median')\n",
    "plt.plot([mo, mo], [0, 250], c='green', label='mode')\n",
    "plt.legend()\n",
    "plt.show()"
   ]
  }
 ],
 "metadata": {
  "kernelspec": {
   "display_name": "Python 3",
   "language": "python",
   "name": "python3"
  },
  "language_info": {
   "codemirror_mode": {
    "name": "ipython",
    "version": 3
   },
   "file_extension": ".py",
   "mimetype": "text/x-python",
   "name": "python",
   "nbconvert_exporter": "python",
   "pygments_lexer": "ipython3",
   "version": "3.13.2"
  }
 },
 "nbformat": 4,
 "nbformat_minor": 2
}
